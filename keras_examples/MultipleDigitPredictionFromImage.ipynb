{
  "nbformat": 4,
  "nbformat_minor": 0,
  "metadata": {
    "colab": {
      "name": "MultipleDigitPredictionFromImage.ipynb",
      "provenance": [],
      "mount_file_id": "1bFh8JQgw5qVdeoQ6ni1RqiimGisHo2Qd",
      "authorship_tag": "ABX9TyOfyaNBWGC9o2LV+L0Z/i9d",
      "include_colab_link": true
    },
    "kernelspec": {
      "name": "python3",
      "display_name": "Python 3"
    },
    "language_info": {
      "name": "python"
    }
  },
  "cells": [
    {
      "cell_type": "markdown",
      "metadata": {
        "id": "view-in-github",
        "colab_type": "text"
      },
      "source": [
        "<a href=\"https://colab.research.google.com/github/mahesh-keswani/ML-DL-Basics/blob/main/keras_examples/MultipleDigitPredictionFromImage.ipynb\" target=\"_parent\"><img src=\"https://colab.research.google.com/assets/colab-badge.svg\" alt=\"Open In Colab\"/></a>"
      ]
    },
    {
      "cell_type": "code",
      "metadata": {
        "id": "RuYGaL-s7R1J"
      },
      "source": [
        "import tensorflow as tf\n",
        "from tensorflow import keras\n",
        "from tensorflow.keras import layers, regularizers\n",
        "from tensorflow.keras.datasets import mnist\n",
        "\n",
        "# Use Pandas to load dataset from csv file\n",
        "import pandas as pd"
      ],
      "execution_count": 2,
      "outputs": []
    },
    {
      "cell_type": "code",
      "metadata": {
        "id": "EEdKU-4N97zz"
      },
      "source": [
        "# dataset: https://www.kaggle.com/dataset/eb9594e5b728b2eb74ff8d5e57a9b74634330bfa79d9195d6ebdc7745b9802c3?select=train_images"
      ],
      "execution_count": 2,
      "outputs": []
    },
    {
      "cell_type": "code",
      "metadata": {
        "id": "86OB4hJyHbWp"
      },
      "source": [
        "BASE_PATH = \"/content/drive/MyDrive/multiple_digit_dataset\"\n",
        "\n",
        "train_df = pd.read_csv(BASE_PATH + \"/train.csv\")\n",
        "test_df = pd.read_csv(BASE_PATH + \"/test.csv\")\n",
        "\n",
        "# as in train_images I have put only 265 images and 177 in test_images\n",
        "train_images = BASE_PATH + \"/train_images/\" + train_df.iloc[:265, 0].values\n",
        "test_images = BASE_PATH+ \"/test_images/\" + test_df.iloc[:177, 0].values"
      ],
      "execution_count": 3,
      "outputs": []
    },
    {
      "cell_type": "code",
      "metadata": {
        "id": "9Tyy2guXIClF"
      },
      "source": [
        "train_labels = train_df.iloc[:265, 1:].values\n",
        "test_labels = test_df.iloc[:177, 1:].values"
      ],
      "execution_count": 4,
      "outputs": []
    },
    {
      "cell_type": "code",
      "metadata": {
        "id": "fIRp_SeIIaL9"
      },
      "source": [
        "def read_image(image_path, label):\n",
        "    image = tf.io.read_file(image_path)\n",
        "    image = tf.image.decode_image(image, channels=1, dtype=tf.float32)\n",
        "\n",
        "    # In older versions you need to set shape in order to avoid error\n",
        "    # on newer (2.3.0+) the following 3 lines can safely be removed\n",
        "    image.set_shape((64, 64, 1))\n",
        "    label[0].set_shape([])\n",
        "    label[1].set_shape([])\n",
        "\n",
        "    labels = {\"first_num\": label[0], \"second_num\": label[1]}\n",
        "    return image, labels\n"
      ],
      "execution_count": 5,
      "outputs": []
    },
    {
      "cell_type": "code",
      "metadata": {
        "id": "SyMqrS3UItW7"
      },
      "source": [
        "# HYPERPARAMETERS\n",
        "BATCH_SIZE = 64\n",
        "WEIGHT_DECAY = 0.001\n",
        "LEARNING_RATE = 0.001"
      ],
      "execution_count": 7,
      "outputs": []
    },
    {
      "cell_type": "code",
      "metadata": {
        "id": "b5d-C1c2IlQY"
      },
      "source": [
        "AUTOTUNE = tf.data.experimental.AUTOTUNE\n",
        "train_dataset = tf.data.Dataset.from_tensor_slices((train_images, train_labels))\n",
        "train_dataset = (\n",
        "    train_dataset.shuffle(buffer_size=len(train_labels))\n",
        "    .map(read_image)\n",
        "    .batch(batch_size=BATCH_SIZE)\n",
        "    .prefetch(buffer_size=AUTOTUNE)\n",
        ")\n",
        "\n",
        "test_dataset = tf.data.Dataset.from_tensor_slices((test_images, test_labels))\n",
        "test_dataset = (\n",
        "    test_dataset.map(read_image)\n",
        "    .batch(batch_size=BATCH_SIZE)\n",
        "    .prefetch(buffer_size=AUTOTUNE)\n",
        ")"
      ],
      "execution_count": 8,
      "outputs": []
    },
    {
      "cell_type": "code",
      "metadata": {
        "id": "-cNIKfDeIpKX"
      },
      "source": [
        "inputs = keras.Input(shape=(64, 64, 1))\n",
        "x = layers.Conv2D( filters=32, kernel_size=3, padding=\"same\", kernel_regularizer=regularizers.l2(WEIGHT_DECAY) )(inputs)\n",
        "x = layers.BatchNormalization()(x)\n",
        "x = keras.activations.relu(x)\n",
        "\n",
        "x = layers.Conv2D(64, 3, kernel_regularizer=regularizers.l2(WEIGHT_DECAY),)(x)\n",
        "x = layers.BatchNormalization()(x)\n",
        "x = keras.activations.relu(x)\n",
        "x = layers.MaxPooling2D()(x)\n",
        "\n",
        "x = layers.Conv2D( 64, 3, activation=\"relu\", kernel_regularizer=regularizers.l2(WEIGHT_DECAY) )(x)\n",
        "x = layers.Conv2D(128, 3, activation=\"relu\")(x)\n",
        "x = layers.MaxPooling2D()(x)\n",
        "x = layers.Flatten()(x)\n",
        "\n",
        "x = layers.Dense(128, activation=\"relu\")(x)\n",
        "x = layers.Dropout(0.5)(x)\n",
        "x = layers.Dense(64, activation=\"relu\")(x)\n",
        "\n",
        "# as we have two digits in each image, we have twow output layer\n",
        "output1 = layers.Dense(10, activation=\"softmax\", name=\"first_num\")(x)\n",
        "output2 = layers.Dense(10, activation=\"softmax\", name=\"second_num\")(x)\n",
        "\n",
        "model = keras.Model(inputs=inputs, outputs=[output1, output2])"
      ],
      "execution_count": 11,
      "outputs": []
    },
    {
      "cell_type": "code",
      "metadata": {
        "id": "yYAvL6NbIx2G"
      },
      "source": [
        "# as there are two outputs, there are two losses, one for eacah output, but if both the losses are same\n",
        "# you can provide only one\n",
        "\n",
        "model.compile(\n",
        "    optimizer=keras.optimizers.Adam(LEARNING_RATE),\n",
        "    loss=[\n",
        "          keras.losses.SparseCategoricalCrossentropy(),\n",
        "          keras.losses.SparseCategoricalCrossentropy()\n",
        "    ],\n",
        "    metrics=[\"accuracy\"],\n",
        ")"
      ],
      "execution_count": 12,
      "outputs": []
    },
    {
      "cell_type": "code",
      "metadata": {
        "id": "apzD6vA3Jwhm"
      },
      "source": [
        "model.fit(train_dataset, epochs=5, verbose=2)"
      ],
      "execution_count": null,
      "outputs": []
    },
    {
      "cell_type": "code",
      "metadata": {
        "id": "XruoZV6gJ0Lh"
      },
      "source": [
        "model.evaluate(test_dataset, verbose=2)"
      ],
      "execution_count": null,
      "outputs": []
    }
  ]
}