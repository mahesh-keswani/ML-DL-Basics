{
  "nbformat": 4,
  "nbformat_minor": 0,
  "metadata": {
    "colab": {
      "name": "GreatExampleOfSequentialAndFunctionalAPIKeras.ipynb",
      "provenance": [],
      "authorship_tag": "ABX9TyM/b+AdnlKGLRhwiv0qZ2ca",
      "include_colab_link": true
    },
    "kernelspec": {
      "name": "python3",
      "display_name": "Python 3"
    },
    "language_info": {
      "name": "python"
    }
  },
  "cells": [
    {
      "cell_type": "markdown",
      "metadata": {
        "id": "view-in-github",
        "colab_type": "text"
      },
      "source": [
        "<a href=\"https://colab.research.google.com/github/mahesh-keswani/ML-DL-Basics/blob/main/keras_examples/GreatExampleOfSequentialAndFunctionalAPIKeras.ipynb\" target=\"_parent\"><img src=\"https://colab.research.google.com/assets/colab-badge.svg\" alt=\"Open In Colab\"/></a>"
      ]
    },
    {
      "cell_type": "code",
      "metadata": {
        "id": "rOlMDjD7y73V"
      },
      "source": [
        "# Resource: https://www.youtube.com/watch?v=pAhPiF3yiXI\n",
        "\n",
        "import tensorflow as tf\n",
        "from tensorflow import keras\n",
        "from tensorflow.keras import layers\n",
        "from tensorflow.keras.datasets import mnist"
      ],
      "execution_count": 1,
      "outputs": []
    },
    {
      "cell_type": "code",
      "metadata": {
        "colab": {
          "base_uri": "https://localhost:8080/"
        },
        "id": "bjmjT9adzZfu",
        "outputId": "e330d48f-b27f-4e96-8bc5-875a454502db"
      },
      "source": [
        "(x_train, y_train), (x_test, y_test) = mnist.load_data()"
      ],
      "execution_count": 2,
      "outputs": [
        {
          "output_type": "stream",
          "text": [
            "Downloading data from https://storage.googleapis.com/tensorflow/tf-keras-datasets/mnist.npz\n",
            "11493376/11490434 [==============================] - 0s 0us/step\n"
          ],
          "name": "stdout"
        }
      ]
    },
    {
      "cell_type": "code",
      "metadata": {
        "colab": {
          "base_uri": "https://localhost:8080/"
        },
        "id": "ROlaxI9qzjXK",
        "outputId": "36378dd4-83d3-4d42-d2d5-f8ec7a0a272d"
      },
      "source": [
        "print(x_train.shape, y_train.shape)"
      ],
      "execution_count": 3,
      "outputs": [
        {
          "output_type": "stream",
          "text": [
            "(60000, 28, 28) (60000,)\n"
          ],
          "name": "stdout"
        }
      ]
    },
    {
      "cell_type": "code",
      "metadata": {
        "id": "QHkMhztFzqVq"
      },
      "source": [
        "# there are 60000 images of shape 28x28"
      ],
      "execution_count": 4,
      "outputs": []
    },
    {
      "cell_type": "code",
      "metadata": {
        "id": "H-vOJYBkzyrM"
      },
      "source": [
        "# converting to float32 for reducing computational cost\n",
        "x_train = x_train.reshape(-1, 28*28).astype(\"float32\") / 255.0\n",
        "x_test = x_test.reshape(-1, 28*28).astype(\"float32\") / 255.0"
      ],
      "execution_count": 5,
      "outputs": []
    },
    {
      "cell_type": "markdown",
      "metadata": {
        "id": "OqnCwOqK5Ejm"
      },
      "source": [
        "<h1>Sequential API</h1>"
      ]
    },
    {
      "cell_type": "code",
      "metadata": {
        "id": "KiMNFT-h0EhU"
      },
      "source": [
        "# Sequential API ( It is very convenient and easy to use when you have one input and one output )\n",
        "model = keras.Sequential()\n",
        "# when you don't specify input shape, during fit it will interpret the shape by itself, but only after the fit then only you can do model.summary()\n",
        "model.add( layers.Dense( units = 128, activation='relu' ) )\n",
        "model.add( layers.Dense( units = 64, activation='relu' ) )\n",
        "model.add( layers.Dense( units = 10) )\n",
        "\n",
        "# when you don't specify softmax, you can do this in loss function as well"
      ],
      "execution_count": 6,
      "outputs": []
    },
    {
      "cell_type": "code",
      "metadata": {
        "id": "ZVfdU4nd09lG"
      },
      "source": [
        "# if we have labels as integers then we use Sparse, but if labels are one hot encode we can simply use CategoricalCrossEntropy\n",
        "# from_logits = True, then it will use softmax first then calculate loss\n",
        "\n",
        "model.compile(\n",
        "    loss = keras.losses.SparseCategoricalCrossentropy(from_logits = True),\n",
        "    optimizer = keras.optimizers.Adam(),\n",
        "    metrics = ['accuracy']\n",
        ")"
      ],
      "execution_count": 8,
      "outputs": []
    },
    {
      "cell_type": "code",
      "metadata": {
        "id": "aJvnxjdl2fO6"
      },
      "source": [
        "# you cannot use model.summary() here, it will result in error, only after fit"
      ],
      "execution_count": null,
      "outputs": []
    },
    {
      "cell_type": "code",
      "metadata": {
        "colab": {
          "base_uri": "https://localhost:8080/"
        },
        "id": "TGfaSURk1860",
        "outputId": "e1a715d7-9278-44d9-ea3d-58cfb1bc9d98"
      },
      "source": [
        "model.fit(x_train, y_train, epochs = 3, verbose = 2, batch_size = 32)"
      ],
      "execution_count": 9,
      "outputs": [
        {
          "output_type": "stream",
          "text": [
            "Epoch 1/3\n",
            "1875/1875 - 4s - loss: 0.2385 - accuracy: 0.9296\n",
            "Epoch 2/3\n",
            "1875/1875 - 3s - loss: 0.1034 - accuracy: 0.9681\n",
            "Epoch 3/3\n",
            "1875/1875 - 3s - loss: 0.0721 - accuracy: 0.9775\n"
          ],
          "name": "stdout"
        },
        {
          "output_type": "execute_result",
          "data": {
            "text/plain": [
              "<tensorflow.python.keras.callbacks.History at 0x7f02243bcf90>"
            ]
          },
          "metadata": {
            "tags": []
          },
          "execution_count": 9
        }
      ]
    },
    {
      "cell_type": "code",
      "metadata": {
        "colab": {
          "base_uri": "https://localhost:8080/"
        },
        "id": "o3G59nc32MBZ",
        "outputId": "b94cc2f6-5e68-4bb1-d403-59dd46ac1491"
      },
      "source": [
        "model.evaluate(x_test, y_test, batch_size=32, verbose=2)"
      ],
      "execution_count": 11,
      "outputs": [
        {
          "output_type": "stream",
          "text": [
            "313/313 - 0s - loss: 0.0909 - accuracy: 0.9731\n"
          ],
          "name": "stdout"
        },
        {
          "output_type": "execute_result",
          "data": {
            "text/plain": [
              "[0.09085403382778168, 0.9731000065803528]"
            ]
          },
          "metadata": {
            "tags": []
          },
          "execution_count": 11
        }
      ]
    },
    {
      "cell_type": "markdown",
      "metadata": {
        "id": "9r-dP9eV5Kjm"
      },
      "source": [
        "<h1>Functional API</h1>"
      ]
    },
    {
      "cell_type": "code",
      "metadata": {
        "id": "Dje_UoN02RVg"
      },
      "source": [
        "# Now Functional API ( which is bit more flexible )\n",
        "# creating same network as above, but with functional API\n",
        "\n",
        "# can also provide additional argument 'name' which can be useful for debugging\n",
        "inputs = layers.Input( shape = (784) )\n",
        "x = layers.Dense( units = 128, activation = 'relu' )(inputs)\n",
        "x = layers.Dense( units = 64, activation = 'relu' )(x)\n",
        "outputs = layers.Dense( units = 10 )(x)\n"
      ],
      "execution_count": 12,
      "outputs": []
    },
    {
      "cell_type": "code",
      "metadata": {
        "id": "gbO7wALz3amO"
      },
      "source": [
        "model = keras.Model( inputs = inputs, outputs = outputs )"
      ],
      "execution_count": 13,
      "outputs": []
    },
    {
      "cell_type": "code",
      "metadata": {
        "id": "dijfEw0r3kKo"
      },
      "source": [
        "model.compile(\n",
        "    loss = keras.losses.SparseCategoricalCrossentropy(from_logits = True),\n",
        "    optimizer = keras.optimizers.Adam(),\n",
        "    metrics = ['accuracy']\n",
        ")"
      ],
      "execution_count": 14,
      "outputs": []
    },
    {
      "cell_type": "code",
      "metadata": {
        "colab": {
          "base_uri": "https://localhost:8080/"
        },
        "id": "OeGKCZ2R3sNu",
        "outputId": "df16b64a-e3fe-46c1-9120-504063b68adc"
      },
      "source": [
        "model.fit(x_train, y_train, epochs = 3, verbose = 2, batch_size = 32)"
      ],
      "execution_count": 15,
      "outputs": [
        {
          "output_type": "stream",
          "text": [
            "Epoch 1/3\n",
            "1875/1875 - 3s - loss: 0.2366 - accuracy: 0.9312\n",
            "Epoch 2/3\n",
            "1875/1875 - 3s - loss: 0.0999 - accuracy: 0.9697\n",
            "Epoch 3/3\n",
            "1875/1875 - 3s - loss: 0.0698 - accuracy: 0.9782\n"
          ],
          "name": "stdout"
        },
        {
          "output_type": "execute_result",
          "data": {
            "text/plain": [
              "<tensorflow.python.keras.callbacks.History at 0x7f0221bf38d0>"
            ]
          },
          "metadata": {
            "tags": []
          },
          "execution_count": 15
        }
      ]
    },
    {
      "cell_type": "code",
      "metadata": {
        "colab": {
          "base_uri": "https://localhost:8080/"
        },
        "id": "Biikz44X3tej",
        "outputId": "fa06e7fc-a219-4bfe-c43c-9d869a19521f"
      },
      "source": [
        "model.evaluate( x_test, y_test, batch_size=32, verbose=2 )"
      ],
      "execution_count": 17,
      "outputs": [
        {
          "output_type": "stream",
          "text": [
            "313/313 - 0s - loss: 0.0914 - accuracy: 0.9717\n"
          ],
          "name": "stdout"
        },
        {
          "output_type": "execute_result",
          "data": {
            "text/plain": [
              "[0.09143621474504471, 0.9717000126838684]"
            ]
          },
          "metadata": {
            "tags": []
          },
          "execution_count": 17
        }
      ]
    },
    {
      "cell_type": "markdown",
      "metadata": {
        "id": "pUJl3TJ-5Opm"
      },
      "source": [
        "<h1>Getting output of intermediate layers</h1>"
      ]
    },
    {
      "cell_type": "code",
      "metadata": {
        "colab": {
          "base_uri": "https://localhost:8080/"
        },
        "id": "jJQmf-6h3zMI",
        "outputId": "860d500c-9690-4717-a769-4e2f995217b9"
      },
      "source": [
        "# If you want the output of intermediate layer\n",
        "\n",
        "# printing the output of every layer\n",
        "input_layer = x_train\n",
        "for layer in model.layers:\n",
        "    output = layer(input_layer)\n",
        "    print( output.shape )\n",
        "    input_layer = output"
      ],
      "execution_count": 19,
      "outputs": [
        {
          "output_type": "stream",
          "text": [
            "(60000, 784)\n",
            "(60000, 128)\n",
            "(60000, 64)\n",
            "(60000, 10)\n"
          ],
          "name": "stdout"
        }
      ]
    },
    {
      "cell_type": "markdown",
      "metadata": {
        "id": "eSOQPYPU5V7m"
      },
      "source": [
        "<h1>Getting prediction from intermediate layer</h1>"
      ]
    },
    {
      "cell_type": "code",
      "metadata": {
        "id": "eybQkcl54ghD"
      },
      "source": [
        "# using the previous model inputs and using the second last layer for output\n",
        "# if it had name property, say name = 'second_last_layer', then we can also do, model.get_layer(name = 'second_last_layer').output\n",
        "model = keras.Model( inputs = model.inputs, outputs = model.layers[-2].output )\n",
        "latent_representation = model.predict( x_train )"
      ],
      "execution_count": 21,
      "outputs": []
    },
    {
      "cell_type": "code",
      "metadata": {
        "id": "hfuw47tn6NrU"
      },
      "source": [
        ""
      ],
      "execution_count": null,
      "outputs": []
    }
  ]
}