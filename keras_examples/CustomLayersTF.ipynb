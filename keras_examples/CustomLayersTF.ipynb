{
  "nbformat": 4,
  "nbformat_minor": 0,
  "metadata": {
    "colab": {
      "name": "CustomLayersTF.ipynb",
      "provenance": [],
      "authorship_tag": "ABX9TyNVBPvOaKy4tSiFbQ5Wyynn",
      "include_colab_link": true
    },
    "kernelspec": {
      "name": "python3",
      "display_name": "Python 3"
    },
    "language_info": {
      "name": "python"
    }
  },
  "cells": [
    {
      "cell_type": "markdown",
      "metadata": {
        "id": "view-in-github",
        "colab_type": "text"
      },
      "source": [
        "<a href=\"https://colab.research.google.com/github/mahesh-keswani/ML-DL-Basics/blob/main/keras_examples/CustomLayersTF.ipynb\" target=\"_parent\"><img src=\"https://colab.research.google.com/assets/colab-badge.svg\" alt=\"Open In Colab\"/></a>"
      ]
    },
    {
      "cell_type": "code",
      "metadata": {
        "id": "8RjFIYuA6lQQ"
      },
      "source": [
        "import tensorflow as tf\n",
        "from tensorflow import keras\n",
        "from tensorflow.keras import layers\n",
        "from tensorflow.keras.datasets import mnist "
      ],
      "execution_count": 1,
      "outputs": []
    },
    {
      "cell_type": "code",
      "metadata": {
        "id": "A9yVHBdm6r3G"
      },
      "source": [
        "(x_train, y_train), (x_test, y_test) = mnist.load_data()"
      ],
      "execution_count": 2,
      "outputs": []
    },
    {
      "cell_type": "code",
      "metadata": {
        "id": "aQntIYee65D4"
      },
      "source": [
        "x_train = x_train.reshape(-1, 28*28).astype(\"float32\") / 255.0\n",
        "x_test = x_test.reshape(-1, 28*28).astype(\"float32\") / 255.0"
      ],
      "execution_count": 3,
      "outputs": []
    },
    {
      "cell_type": "code",
      "metadata": {
        "id": "trtYr8ud67q4"
      },
      "source": [
        "class MyModel(keras.Model):\n",
        "    def __init__(self, num_classes):\n",
        "        super(MyModel, self).__init__()\n",
        "        self.dense1 = layers.Dense(64, activation='relu')\n",
        "        self.dense2 = layers.Dense(num_classes)\n",
        "    \n",
        "    def call(self, input_tensor):\n",
        "        x = self.dense1(input_tensor)\n",
        "        x = self.dense2(x)\n",
        "        return x"
      ],
      "execution_count": 4,
      "outputs": []
    },
    {
      "cell_type": "code",
      "metadata": {
        "id": "u1CeNAmr7tde"
      },
      "source": [
        "model = MyModel(num_classes=10)\n",
        "\n",
        "model.compile( loss=keras.losses.SparseCategoricalCrossentropy(from_logits=True), metrics=['accuracy'], optimizer=keras.optimizers.Adam() )"
      ],
      "execution_count": 5,
      "outputs": []
    },
    {
      "cell_type": "code",
      "metadata": {
        "colab": {
          "base_uri": "https://localhost:8080/"
        },
        "id": "VTN1j4an8Ep2",
        "outputId": "ddd156f1-582a-470b-83b6-1810e85beb45"
      },
      "source": [
        "model.fit(x_train, y_train, batch_size=32, verbose=2, epochs=3)"
      ],
      "execution_count": 6,
      "outputs": [
        {
          "output_type": "stream",
          "text": [
            "Epoch 1/3\n",
            "1875/1875 - 2s - loss: 0.3097 - accuracy: 0.9131\n",
            "Epoch 2/3\n",
            "1875/1875 - 2s - loss: 0.1544 - accuracy: 0.9552\n",
            "Epoch 3/3\n",
            "1875/1875 - 2s - loss: 0.1139 - accuracy: 0.9668\n"
          ],
          "name": "stdout"
        },
        {
          "output_type": "execute_result",
          "data": {
            "text/plain": [
              "<tensorflow.python.keras.callbacks.History at 0x7fa3dd9d25d0>"
            ]
          },
          "metadata": {
            "tags": []
          },
          "execution_count": 6
        }
      ]
    },
    {
      "cell_type": "code",
      "metadata": {
        "colab": {
          "base_uri": "https://localhost:8080/"
        },
        "id": "qQN30Htg8MhK",
        "outputId": "9369df63-fba6-4e58-a681-190faac59f1c"
      },
      "source": [
        "model.evaluate(x_test, y_test, batch_size=32, verbose=2)"
      ],
      "execution_count": 7,
      "outputs": [
        {
          "output_type": "stream",
          "text": [
            "313/313 - 0s - loss: 0.1117 - accuracy: 0.9658\n"
          ],
          "name": "stdout"
        },
        {
          "output_type": "execute_result",
          "data": {
            "text/plain": [
              "[0.11173871904611588, 0.9657999873161316]"
            ]
          },
          "metadata": {
            "tags": []
          },
          "execution_count": 7
        }
      ]
    },
    {
      "cell_type": "markdown",
      "metadata": {
        "id": "6GUaWH6k-N5C"
      },
      "source": [
        "<h1>Now creating custom layer :D</h1>"
      ]
    },
    {
      "cell_type": "code",
      "metadata": {
        "id": "opcA_SHW9gaR"
      },
      "source": [
        "# Different initializations: https://www.tensorflow.org/api_docs/python/tf/keras/initializers\n",
        "\n",
        "class MyDense(layers.Layer):\n",
        "    def __init__(self, units, input_dim):\n",
        "        super(MyDense, self).__init__()\n",
        "        self.w = self.add_weight( name='w', shape=(input_dim, units), initializer='random_normal', trainable=True)\n",
        "        self.b = self.add_weight( name='b', shape=(units, ), initializer='zeros', trainable=True)\n",
        "\n",
        "    def call(self, inputs):\n",
        "        return tf.matmul(inputs, self.w) + self.b"
      ],
      "execution_count": 8,
      "outputs": []
    },
    {
      "cell_type": "code",
      "metadata": {
        "id": "NJC6H9Jk_65M"
      },
      "source": [
        "class MyModel(keras.Model):\n",
        "    def __init__(self, num_classes, input_dim):\n",
        "        super(MyModel, self).__init__()\n",
        "        self.dense1 = MyDense(units=64, input_dim=input_dim)\n",
        "        self.dense2 = MyDense(units=10, input_dim=64)\n",
        "    \n",
        "    def call(self, input_tensor):\n",
        "        x = tf.nn.relu( self.dense1(input_tensor) )\n",
        "        x = self.dense2(x)\n",
        "        return x"
      ],
      "execution_count": 9,
      "outputs": []
    },
    {
      "cell_type": "code",
      "metadata": {
        "id": "_hZ_lttuAhm1"
      },
      "source": [
        "model = MyModel(input_dim=784, num_classes=10)\n",
        "\n",
        "model.compile( loss=keras.losses.SparseCategoricalCrossentropy(from_logits=True), metrics=['accuracy'], optimizer=keras.optimizers.Adam() )"
      ],
      "execution_count": 10,
      "outputs": []
    },
    {
      "cell_type": "code",
      "metadata": {
        "colab": {
          "base_uri": "https://localhost:8080/"
        },
        "id": "3OUtfSKCAsZ1",
        "outputId": "72c5bda4-d24d-4a1f-9162-dbeea1501a21"
      },
      "source": [
        "model.fit(x_train, y_train, batch_size=32, verbose=2, epochs=3)"
      ],
      "execution_count": 11,
      "outputs": [
        {
          "output_type": "stream",
          "text": [
            "Epoch 1/3\n",
            "1875/1875 - 2s - loss: 0.3412 - accuracy: 0.9061\n",
            "Epoch 2/3\n",
            "1875/1875 - 2s - loss: 0.1623 - accuracy: 0.9534\n",
            "Epoch 3/3\n",
            "1875/1875 - 2s - loss: 0.1168 - accuracy: 0.9650\n"
          ],
          "name": "stdout"
        },
        {
          "output_type": "execute_result",
          "data": {
            "text/plain": [
              "<tensorflow.python.keras.callbacks.History at 0x7fa3d7aae0d0>"
            ]
          },
          "metadata": {
            "tags": []
          },
          "execution_count": 11
        }
      ]
    },
    {
      "cell_type": "code",
      "metadata": {
        "colab": {
          "base_uri": "https://localhost:8080/"
        },
        "id": "FbS0prA-AwNS",
        "outputId": "1d1b10fd-d110-4720-bfe2-fc44d8e6ae20"
      },
      "source": [
        "model.evaluate(x_test, y_test, batch_size=32, verbose=2)"
      ],
      "execution_count": 12,
      "outputs": [
        {
          "output_type": "stream",
          "text": [
            "313/313 - 0s - loss: 0.1083 - accuracy: 0.9679\n"
          ],
          "name": "stdout"
        },
        {
          "output_type": "execute_result",
          "data": {
            "text/plain": [
              "[0.10832881182432175, 0.9678999781608582]"
            ]
          },
          "metadata": {
            "tags": []
          },
          "execution_count": 12
        }
      ]
    },
    {
      "cell_type": "code",
      "metadata": {
        "id": "GFPqMv6ZBD3Y"
      },
      "source": [
        ""
      ],
      "execution_count": null,
      "outputs": []
    }
  ]
}