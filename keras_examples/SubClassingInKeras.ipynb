{
  "nbformat": 4,
  "nbformat_minor": 0,
  "metadata": {
    "colab": {
      "name": "SubClassingInKeras.ipynb",
      "provenance": [],
      "collapsed_sections": [],
      "authorship_tag": "ABX9TyNzJORy7yeQ7/DbkGI0Gkoa",
      "include_colab_link": true
    },
    "kernelspec": {
      "name": "python3",
      "display_name": "Python 3"
    },
    "language_info": {
      "name": "python"
    },
    "accelerator": "GPU"
  },
  "cells": [
    {
      "cell_type": "markdown",
      "metadata": {
        "id": "view-in-github",
        "colab_type": "text"
      },
      "source": [
        "<a href=\"https://colab.research.google.com/github/mahesh-keswani/ML-DL-Basics/blob/main/keras_examples/SubClassingInKeras.ipynb\" target=\"_parent\"><img src=\"https://colab.research.google.com/assets/colab-badge.svg\" alt=\"Open In Colab\"/></a>"
      ]
    },
    {
      "cell_type": "code",
      "metadata": {
        "id": "etFACDZ2oJyO"
      },
      "source": [
        "import tensorflow as tf\n",
        "from tensorflow import keras\n",
        "from tensorflow.keras import layers\n",
        "from tensorflow.keras.datasets import mnist "
      ],
      "execution_count": 1,
      "outputs": []
    },
    {
      "cell_type": "code",
      "metadata": {
        "id": "xsSwJrizocz-"
      },
      "source": [
        "(x_train, y_train), (x_test, y_test) = mnist.load_data()"
      ],
      "execution_count": 2,
      "outputs": []
    },
    {
      "cell_type": "code",
      "metadata": {
        "colab": {
          "base_uri": "https://localhost:8080/"
        },
        "id": "n1NFAf4Vojm-",
        "outputId": "eab9c7f2-5522-43d7-bfae-906b84f62593"
      },
      "source": [
        "# y_train are sparse labels and not one-hot encoded\n",
        "y_train[:5]"
      ],
      "execution_count": 3,
      "outputs": [
        {
          "output_type": "execute_result",
          "data": {
            "text/plain": [
              "array([5, 0, 4, 1, 9], dtype=uint8)"
            ]
          },
          "metadata": {
            "tags": []
          },
          "execution_count": 3
        }
      ]
    },
    {
      "cell_type": "code",
      "metadata": {
        "id": "AisKEZlMomIj"
      },
      "source": [
        "x_train = x_train.reshape(-1, 28, 28, 1).astype(\"float32\") / 255.0\n",
        "x_test = x_test.reshape(-1, 28, 28, 1).astype(\"float32\") / 255.0"
      ],
      "execution_count": 4,
      "outputs": []
    },
    {
      "cell_type": "code",
      "metadata": {
        "id": "z2jFE4OIo5xe"
      },
      "source": [
        "# Now the common sequence is: CNN -> BatchNorm -> ReLu and we use this multiple times, so instead we will just create a block and use it multiple times\n",
        "\n",
        "class CNNBlock(layers.Layer):\n",
        "    def __init__(self, out_channels, kernel_size = 3):\n",
        "        super(CNNBlock, self).__init__()\n",
        "        self.conv = layers.Conv2D(filters=out_channels, kernel_size=kernel_size, padding='same')\n",
        "        self.bn = layers.BatchNormalization()\n",
        "    \n",
        "    def call(self, input_tensor, training=False):\n",
        "        x = self.conv(input_tensor)\n",
        "        x = self.bn(x, training = training)\n",
        "        return tf.nn.relu(x)\n"
      ],
      "execution_count": 5,
      "outputs": []
    },
    {
      "cell_type": "code",
      "metadata": {
        "id": "wVKfDQzErbRN"
      },
      "source": [
        "model = keras.Sequential(\n",
        "    [\n",
        "     CNNBlock(32),\n",
        "     CNNBlock(64),\n",
        "     CNNBlock(128),\n",
        "     layers.Flatten(),\n",
        "     layers.Dense(10)    \n",
        "    ]\n",
        ")"
      ],
      "execution_count": 6,
      "outputs": []
    },
    {
      "cell_type": "code",
      "metadata": {
        "id": "87NKPEClr5gu"
      },
      "source": [
        "model.compile(optimizer='adam', loss=keras.losses.SparseCategoricalCrossentropy(from_logits = True), metrics=['accuracy'])"
      ],
      "execution_count": 7,
      "outputs": []
    },
    {
      "cell_type": "code",
      "metadata": {
        "colab": {
          "base_uri": "https://localhost:8080/"
        },
        "id": "xnci-3_8sNJn",
        "outputId": "849b7a57-99a8-490d-8c27-7ef5d82b9c08"
      },
      "source": [
        "model.fit( x_train, y_train, epochs=5, verbose=2, batch_size=32 )"
      ],
      "execution_count": 8,
      "outputs": [
        {
          "output_type": "stream",
          "text": [
            "Epoch 1/5\n",
            "1875/1875 - 14s - loss: 0.4845 - accuracy: 0.9533\n",
            "Epoch 2/5\n",
            "1875/1875 - 11s - loss: 0.0488 - accuracy: 0.9858\n",
            "Epoch 3/5\n",
            "1875/1875 - 11s - loss: 0.0430 - accuracy: 0.9865\n",
            "Epoch 4/5\n",
            "1875/1875 - 11s - loss: 0.0344 - accuracy: 0.9889\n",
            "Epoch 5/5\n",
            "1875/1875 - 11s - loss: 0.0249 - accuracy: 0.9920\n"
          ],
          "name": "stdout"
        },
        {
          "output_type": "execute_result",
          "data": {
            "text/plain": [
              "<tensorflow.python.keras.callbacks.History at 0x7f6495b2e950>"
            ]
          },
          "metadata": {
            "tags": []
          },
          "execution_count": 8
        }
      ]
    },
    {
      "cell_type": "code",
      "metadata": {
        "colab": {
          "base_uri": "https://localhost:8080/"
        },
        "id": "KO-VGskxsgny",
        "outputId": "ee758918-c9aa-4be1-c702-3ffb3a061770"
      },
      "source": [
        "model.evaluate(x_test, y_test, batch_size=32, verbose=2)"
      ],
      "execution_count": 9,
      "outputs": [
        {
          "output_type": "stream",
          "text": [
            "313/313 - 1s - loss: 0.0445 - accuracy: 0.9873\n"
          ],
          "name": "stdout"
        },
        {
          "output_type": "execute_result",
          "data": {
            "text/plain": [
              "[0.044517017900943756, 0.9872999787330627]"
            ]
          },
          "metadata": {
            "tags": []
          },
          "execution_count": 9
        }
      ]
    },
    {
      "cell_type": "code",
      "metadata": {
        "id": "gqkD14JztxA6"
      },
      "source": [
        "# Now by creating our own block, we can do anything in call(), like do any pythonic things ifelse, loops or do some debugging stuff\n",
        "# like printing output shapes of every layer.\n",
        "\n",
        "class CNNBlock(layers.Layer):\n",
        "    def __init__(self, out_channels, kernel_size = 3):\n",
        "        super(CNNBlock, self).__init__()\n",
        "        self.conv = layers.Conv2D(filters=out_channels, kernel_size=kernel_size, padding='same')\n",
        "        self.bn = layers.BatchNormalization()\n",
        "    \n",
        "    def call(self, input_tensor, training=False):\n",
        "        x = self.conv(input_tensor)\n",
        "        x = self.bn(x, training = training)\n",
        "        print(x.shape)\n",
        "        return tf.nn.relu(x)\n"
      ],
      "execution_count": 10,
      "outputs": []
    },
    {
      "cell_type": "code",
      "metadata": {
        "colab": {
          "base_uri": "https://localhost:8080/"
        },
        "id": "RxwrFn8GurmB",
        "outputId": "a896c613-068d-4c0c-acf6-43428e2de32b"
      },
      "source": [
        "model = keras.Sequential(\n",
        "    [\n",
        "     CNNBlock(32),\n",
        "     CNNBlock(64),\n",
        "     CNNBlock(128),\n",
        "     layers.Flatten(),\n",
        "     layers.Dense(10)    \n",
        "    ]\n",
        ")\n",
        "\n",
        "model.compile(optimizer='adam', loss=keras.losses.SparseCategoricalCrossentropy(from_logits = True), metrics=['accuracy'])\n",
        "model.fit( x_train, y_train, epochs=1, verbose=2, batch_size=32 )"
      ],
      "execution_count": 11,
      "outputs": [
        {
          "output_type": "stream",
          "text": [
            "(32, 28, 28, 32)\n",
            "(32, 28, 28, 64)\n",
            "(32, 28, 28, 128)\n",
            "(32, 28, 28, 32)\n",
            "(32, 28, 28, 64)\n",
            "(32, 28, 28, 128)\n",
            "(32, 28, 28, 32)\n",
            "(32, 28, 28, 64)\n",
            "(32, 28, 28, 128)\n",
            "1875/1875 - 11s - loss: 0.5225 - accuracy: 0.9518\n"
          ],
          "name": "stdout"
        },
        {
          "output_type": "execute_result",
          "data": {
            "text/plain": [
              "<tensorflow.python.keras.callbacks.History at 0x7f643bf69f90>"
            ]
          },
          "metadata": {
            "tags": []
          },
          "execution_count": 11
        }
      ]
    },
    {
      "cell_type": "code",
      "metadata": {
        "id": "PFnf1sTDu1da"
      },
      "source": [
        ""
      ],
      "execution_count": null,
      "outputs": []
    }
  ]
}