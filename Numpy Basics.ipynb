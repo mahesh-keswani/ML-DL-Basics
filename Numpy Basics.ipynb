{
 "cells": [
  {
   "cell_type": "code",
   "execution_count": 1,
   "metadata": {},
   "outputs": [],
   "source": [
    "import numpy as np"
   ]
  },
  {
   "cell_type": "code",
   "execution_count": 2,
   "metadata": {},
   "outputs": [],
   "source": [
    "#This will return 1D array\n",
    "matrix = np.random.randint(0,100)\n",
    "\n",
    "#You can specify the shape\n",
    "matrix = np.random.randint(0,100,(10,10))"
   ]
  },
  {
   "cell_type": "code",
   "execution_count": 3,
   "metadata": {},
   "outputs": [],
   "source": [
    "#The above will always generate random values.\n",
    "#So inorder to generate the same values\n",
    "#use np.random.seed(101) in the same cell as in np.random.randint()\n",
    "#This will always generate the same values."
   ]
  },
  {
   "cell_type": "code",
   "execution_count": 4,
   "metadata": {},
   "outputs": [
    {
     "data": {
      "text/plain": [
       "array([[19,  7, 18, 80, 67, 23, 98, 36, 71, 52],\n",
       "       [50, 83, 29, 74,  4, 16, 21, 60, 29, 60],\n",
       "       [50, 57, 77, 94, 25, 92, 90, 38, 29, 34],\n",
       "       [76, 62, 96, 76, 56, 35,  5,  7, 78, 79],\n",
       "       [14, 31, 92, 37, 81, 54, 83, 58, 92, 29],\n",
       "       [ 7, 51, 19, 49, 61, 43, 61, 41, 43,  3],\n",
       "       [56, 25, 72, 87, 90, 64, 91, 70, 67, 22],\n",
       "       [55, 59, 78, 67,  9, 58, 74, 62, 98, 62],\n",
       "       [10, 50, 93, 51, 44, 59, 61, 87,  7, 47],\n",
       "       [88, 67, 24, 82, 46, 75, 97, 28, 99, 69]])"
      ]
     },
     "execution_count": 4,
     "metadata": {},
     "output_type": "execute_result"
    }
   ],
   "source": [
    "matrix"
   ]
  },
  {
   "cell_type": "code",
   "execution_count": 5,
   "metadata": {},
   "outputs": [
    {
     "name": "stdout",
     "output_type": "stream",
     "text": [
      "7\n",
      "7\n"
     ]
    }
   ],
   "source": [
    "# Accessing the elments of matrix\n",
    "# Note : matrix[0,1] is same as matrix[0][1]\n",
    "print(matrix[0,1])\n",
    "print(matrix[0][1])"
   ]
  },
  {
   "cell_type": "code",
   "execution_count": 7,
   "metadata": {},
   "outputs": [
    {
     "name": "stdout",
     "output_type": "stream",
     "text": [
      "98\n",
      "59\n"
     ]
    }
   ],
   "source": [
    "# For getting the index of maximum element of matrix\n",
    "print(matrix.argmax())\n",
    "\n",
    "# For getting the index of minimum element of matrix\n",
    "print(matrix.argmin())"
   ]
  },
  {
   "cell_type": "code",
   "execution_count": null,
   "metadata": {},
   "outputs": [],
   "source": []
  }
 ],
 "metadata": {
  "kernelspec": {
   "display_name": "Python 3",
   "language": "python",
   "name": "python3"
  },
  "language_info": {
   "codemirror_mode": {
    "name": "ipython",
    "version": 3
   },
   "file_extension": ".py",
   "mimetype": "text/x-python",
   "name": "python",
   "nbconvert_exporter": "python",
   "pygments_lexer": "ipython3",
   "version": "3.7.2"
  }
 },
 "nbformat": 4,
 "nbformat_minor": 2
}
