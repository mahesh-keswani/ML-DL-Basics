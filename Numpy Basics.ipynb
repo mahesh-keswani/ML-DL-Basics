{
 "cells": [
  {
   "cell_type": "code",
   "execution_count": 1,
   "metadata": {},
   "outputs": [],
   "source": [
    "import numpy as np"
   ]
  },
  {
   "cell_type": "code",
   "execution_count": 18,
   "metadata": {},
   "outputs": [
    {
     "name": "stdout",
     "output_type": "stream",
     "text": [
      "Looping through lists\n",
      "1\n",
      "2\n",
      "3\n",
      "Looping through array\n",
      "1\n",
      "2\n",
      "3\n"
     ]
    }
   ],
   "source": [
    "# Creating numpy array from list\n",
    "\n",
    "L = [1, 2, 3]\n",
    "a = np.array(L)\n",
    "\n",
    "print(\"Looping through lists\")\n",
    "for element in L:\n",
    "    print(element)\n",
    "\n",
    "print(\"Looping through array\")\n",
    "for element in a:\n",
    "    print(element)\n"
   ]
  },
  {
   "cell_type": "code",
   "execution_count": 19,
   "metadata": {},
   "outputs": [],
   "source": [
    "# But most of time we don't want to manually create array, generating random sample from some distribution will be awesome"
   ]
  },
  {
   "cell_type": "code",
   "execution_count": 2,
   "metadata": {},
   "outputs": [],
   "source": [
    "#This will return 1D array\n",
    "oneD = np.random.randint(0,100)\n",
    "\n",
    "#You can specify the shape\n",
    "matrix = np.random.randint(0,100,(10,10))"
   ]
  },
  {
   "cell_type": "code",
   "execution_count": 3,
   "metadata": {},
   "outputs": [],
   "source": [
    "#The above will always generate random values.\n",
    "#So inorder to generate the same values\n",
    "#use np.random.seed(101) in the same cell as in np.random.randint()\n",
    "#This will always generate the same values."
   ]
  },
  {
   "cell_type": "code",
   "execution_count": 4,
   "metadata": {},
   "outputs": [
    {
     "data": {
      "text/plain": [
       "array([[97, 41, 24, 57, 91, 11, 98, 71, 63, 23],\n",
       "       [ 8, 90, 48, 18, 55, 58, 62, 39, 57,  3],\n",
       "       [63, 68, 70, 41, 37, 47, 36, 10, 22, 11],\n",
       "       [24, 82, 82, 38, 22,  5, 19, 58, 39, 95],\n",
       "       [ 4, 26, 53, 72, 76, 49, 30, 18, 49, 27],\n",
       "       [49, 34, 36, 10, 81, 88, 26, 91, 20, 57],\n",
       "       [69, 35, 15, 33, 93, 24, 57, 26, 19, 53],\n",
       "       [93, 96, 26, 24, 22, 94, 20, 90, 26, 47],\n",
       "       [98, 60, 68, 12, 31,  5, 13, 21, 18, 74],\n",
       "       [64, 43, 67, 36,  8, 97, 33,  0, 27, 14]])"
      ]
     },
     "execution_count": 4,
     "metadata": {},
     "output_type": "execute_result"
    }
   ],
   "source": [
    "matrix"
   ]
  },
  {
   "cell_type": "code",
   "execution_count": 5,
   "metadata": {},
   "outputs": [
    {
     "name": "stdout",
     "output_type": "stream",
     "text": [
      "41\n",
      "41\n"
     ]
    }
   ],
   "source": [
    "# Accessing the elments of matrix\n",
    "# Note : matrix[0,1] is same as matrix[0][1]\n",
    "print(matrix[0,1])\n",
    "print(matrix[0][1])"
   ]
  },
  {
   "cell_type": "code",
   "execution_count": 6,
   "metadata": {},
   "outputs": [
    {
     "name": "stdout",
     "output_type": "stream",
     "text": [
      "6\n",
      "97\n"
     ]
    }
   ],
   "source": [
    "# For getting the index of maximum element of matrix\n",
    "print(matrix.argmax())\n",
    "\n",
    "# For getting the index of minimum element of matrix\n",
    "print(matrix.argmin())"
   ]
  },
  {
   "cell_type": "code",
   "execution_count": 15,
   "metadata": {},
   "outputs": [],
   "source": [
    "# Most of the numpy functions performs elementwise operation"
   ]
  },
  {
   "cell_type": "code",
   "execution_count": 17,
   "metadata": {},
   "outputs": [
    {
     "name": "stdout",
     "output_type": "stream",
     "text": [
      "a + 5 [4.18233938 4.40827218 6.13017609 4.81491742 3.61144186]\n",
      "a - 5 [-5.81766062 -5.59172782 -3.86982391 -5.18508258 -6.38855814]\n",
      "a * 5 [-4.08830311 -2.95863912  5.65088046 -0.9254129  -6.94279069]\n",
      "a / 5 [-0.16353212 -0.11834556  0.22603522 -0.03701652 -0.27771163]\n",
      "a ** 5 [-3.65481515e-01 -7.25454131e-02  1.84387119e+00 -2.17183948e-04\n",
      " -5.16202780e+00]\n"
     ]
    }
   ],
   "source": [
    "# randn samples the data from normal distribution with mean 0 and scale 1\n",
    "\n",
    "a = np.random.randn(5)\n",
    "\n",
    "# Performs elementwise operation\n",
    "print(\"a + 5\", a + 5)\n",
    "print(\"a - 5\", a - 5)\n",
    "print(\"a * 5\", a * 5)\n",
    "print(\"a / 5\", a / 5)\n",
    "print(\"a ** 5\", a ** 5)\n"
   ]
  },
  {
   "attachments": {},
   "cell_type": "markdown",
   "metadata": {},
   "source": [
    "- Source Wikipedia\n",
    "\n",
    "- Dot product formula\n",
    "<img src = \"https://wikimedia.org/api/rest_v1/media/math/render/svg/5bd0b488ad92250b4e7c2f8ac92f700f8aefddd5\">\n",
    "\n",
    "- Dot with cosine term\n",
    "- a.b = |a|   |b|  cos(theta)"
   ]
  },
  {
   "cell_type": "code",
   "execution_count": 34,
   "metadata": {},
   "outputs": [
    {
     "data": {
      "text/plain": [
       "-2.5413867925122484"
      ]
     },
     "execution_count": 34,
     "metadata": {},
     "output_type": "execute_result"
    }
   ],
   "source": [
    "# one_d array with 10 elements\n",
    "a = np.random.randn(10)\n",
    "b = np.random.randn(10)\n",
    "\n",
    "np.dot(a, b)\n",
    "# you can also do a.dot(b) OR b.dot(a)"
   ]
  },
  {
   "cell_type": "code",
   "execution_count": 35,
   "metadata": {},
   "outputs": [],
   "source": [
    "# Calulating angle between a and b\n",
    "\n",
    "# L2 norm explained below\n",
    "cosTheta = np.dot(a , b) / (np.linalg.norm(a) * np.linalg.norm(b))"
   ]
  },
  {
   "cell_type": "code",
   "execution_count": 37,
   "metadata": {},
   "outputs": [
    {
     "data": {
      "text/plain": [
       "-0.21693996029754775"
      ]
     },
     "execution_count": 37,
     "metadata": {},
     "output_type": "execute_result"
    }
   ],
   "source": [
    "cosTheta"
   ]
  },
  {
   "cell_type": "code",
   "execution_count": 36,
   "metadata": {},
   "outputs": [
    {
     "name": "stdout",
     "output_type": "stream",
     "text": [
      "1.7894750069601\n"
     ]
    }
   ],
   "source": [
    "angle = np.arccos(cosTheta)\n",
    "# This angle is in radians\n",
    "print(angle)"
   ]
  },
  {
   "cell_type": "code",
   "execution_count": 12,
   "metadata": {},
   "outputs": [
    {
     "data": {
      "text/plain": [
       "-2.721530285355134"
      ]
     },
     "execution_count": 12,
     "metadata": {},
     "output_type": "execute_result"
    }
   ],
   "source": [
    "# random samples the data from uniform distribution between 0 and 1\n",
    "\n",
    "# one_d array with 10 elements\n",
    "a = np.random.random(10)\n",
    "b = np.random.randn(10)\n",
    "\n",
    "# For more on dot product: https://en.wikipedia.org/wiki/Dot_product\n",
    "np.dot(a, b)\n",
    "# you can also do a.dot(b) OR b.dot(a)"
   ]
  },
  {
   "cell_type": "code",
   "execution_count": 13,
   "metadata": {},
   "outputs": [],
   "source": [
    "# For more dimensions in case of uniform distribution\n",
    "a = np.random.random( (10, 10) )\n",
    "\n",
    "# For normal distribution\n",
    "a = np.random.randn(10, 10)\n",
    "\n",
    "# random expects tuple while randn expects d1, d2, ..."
   ]
  },
  {
   "cell_type": "code",
   "execution_count": 20,
   "metadata": {},
   "outputs": [
    {
     "data": {
      "text/plain": [
       "1.2525874169374445"
      ]
     },
     "execution_count": 20,
     "metadata": {},
     "output_type": "execute_result"
    }
   ],
   "source": [
    "# Calculating dot product without using dot\n",
    "\n",
    "# one_d array with 10 elements\n",
    "a = np.random.random(10)\n",
    "b = np.random.randn(10)\n",
    "\n",
    "# First there is elementwise multiplication and after then addition\n",
    "np.sum(a * b)"
   ]
  },
  {
   "cell_type": "code",
   "execution_count": 7,
   "metadata": {},
   "outputs": [],
   "source": [
    "# np array speed vs lists in python"
   ]
  },
  {
   "cell_type": "markdown",
   "metadata": {},
   "source": [
    "- Suppose we want the square of all the element in lists we have to use for loop and in python\n",
    "   for loop is very slow, but numpy arrays are very fasts\n",
    "\n",
    "- This <a href = \"https://medium.com/swlh/numpy-why-is-it-so-fast-8087f4da4d79#:~:text=NumPy%20arrays%20are%20faster%20because%20of%20several%20factors.,the%20main%20result%20of%20its%20faster%20execution%20time.\"> Link </a> clearly explains why numpy is so fast  "
   ]
  },
  {
   "cell_type": "code",
   "execution_count": 21,
   "metadata": {},
   "outputs": [
    {
     "name": "stdout",
     "output_type": "stream",
     "text": [
      "[1, 4, 9, 16, 25]\n",
      "[ 1  4  9 16 25]\n"
     ]
    }
   ],
   "source": [
    "L = [1, 2, 3, 4, 5]\n",
    "a = np.array(L)\n",
    "\n",
    "L2 = []\n",
    "for element in L:\n",
    "    L2.append(element ** 2)\n",
    "\n",
    "print(L2)\n",
    "# But in numpy\n",
    "print(a ** 2)"
   ]
  },
  {
   "cell_type": "code",
   "execution_count": 22,
   "metadata": {},
   "outputs": [],
   "source": [
    "def slow_for_dot(a, b):\n",
    "    result = 0\n",
    "    for element_a, element_b in zip(a, b):\n",
    "        result += (element_a * element_b)\n",
    "        \n",
    "    return result"
   ]
  },
  {
   "cell_type": "code",
   "execution_count": 25,
   "metadata": {},
   "outputs": [
    {
     "name": "stdout",
     "output_type": "stream",
     "text": [
      "For loop took 0.4893033504486084\n",
      "Numpy array took 0.0\n"
     ]
    }
   ],
   "source": [
    "# This example clearly explains why for loops are slow and numpy is fast\n",
    "import time\n",
    "\n",
    "# one_d array with 1000 elements\n",
    "a = np.random.randn(1000)\n",
    "b = np.random.randn(1000)\n",
    "T = 1000\n",
    "\n",
    "start = time.time()\n",
    "# We will find the dot product of a and b 'T' times and check the time required\n",
    "for _ in range(T):\n",
    "    result = slow_for_dot(a, b)\n",
    "\n",
    "print(\"For loop took {}\".format(time.time() - start))\n",
    "\n",
    "# Now numpy array\n",
    "start = time.time()\n",
    "for _ in range(T):\n",
    "    result = np.dot(a, b)\n",
    "\n",
    "print(\"Numpy array took {}\".format(time.time() - start))"
   ]
  },
  {
   "cell_type": "code",
   "execution_count": 26,
   "metadata": {},
   "outputs": [],
   "source": [
    "# Now other useful functions"
   ]
  },
  {
   "cell_type": "markdown",
   "metadata": {},
   "source": [
    "- For finding the L2 norm, we have to find the square root of of every squared element\n",
    "<img src = \"https://wikimedia.org/api/rest_v1/media/math/render/svg/4d2562bd8e6df0c2625fd9c0e0c09ee9b932785d\">"
   ]
  },
  {
   "cell_type": "code",
   "execution_count": 28,
   "metadata": {},
   "outputs": [
    {
     "data": {
      "text/plain": [
       "31.65242524047617"
      ]
     },
     "execution_count": 28,
     "metadata": {},
     "output_type": "execute_result"
    }
   ],
   "source": [
    "np.sqrt( np.sum(a**2) )"
   ]
  },
  {
   "cell_type": "code",
   "execution_count": 29,
   "metadata": {},
   "outputs": [
    {
     "data": {
      "text/plain": [
       "31.652425240476173"
      ]
     },
     "execution_count": 29,
     "metadata": {},
     "output_type": "execute_result"
    }
   ],
   "source": [
    "# But this is so commonly used, therefore numpy provides faster way to do it\n",
    "np.linalg.norm(a)"
   ]
  },
  {
   "cell_type": "markdown",
   "metadata": {},
   "source": [
    "- Now some matrix operations"
   ]
  },
  {
   "cell_type": "code",
   "execution_count": 38,
   "metadata": {},
   "outputs": [],
   "source": [
    "A = np.array([ [1, 2], [3, 4] ])"
   ]
  },
  {
   "cell_type": "code",
   "execution_count": 40,
   "metadata": {},
   "outputs": [],
   "source": [
    "# calculating inverse of the matrix \n",
    "inverse = np.linalg.inv(A)"
   ]
  },
  {
   "cell_type": "code",
   "execution_count": 42,
   "metadata": {},
   "outputs": [
    {
     "data": {
      "text/plain": [
       "array([[-2. ,  1. ],\n",
       "       [ 1.5, -0.5]])"
      ]
     },
     "execution_count": 42,
     "metadata": {},
     "output_type": "execute_result"
    }
   ],
   "source": [
    "inverse"
   ]
  },
  {
   "cell_type": "code",
   "execution_count": 41,
   "metadata": {},
   "outputs": [
    {
     "data": {
      "text/plain": [
       "array([[1.00000000e+00, 1.11022302e-16],\n",
       "       [0.00000000e+00, 1.00000000e+00]])"
      ]
     },
     "execution_count": 41,
     "metadata": {},
     "output_type": "execute_result"
    }
   ],
   "source": [
    "# Verfying wheter it is inverse or not by multiplying with A and the result should be identity\n",
    "A.dot(inverse)"
   ]
  },
  {
   "cell_type": "code",
   "execution_count": 43,
   "metadata": {},
   "outputs": [],
   "source": [
    "# Calculating determinant of matrix\n",
    "determinant = np.linalg.det(A)"
   ]
  },
  {
   "cell_type": "code",
   "execution_count": 44,
   "metadata": {},
   "outputs": [
    {
     "data": {
      "text/plain": [
       "-2.0000000000000004"
      ]
     },
     "execution_count": 44,
     "metadata": {},
     "output_type": "execute_result"
    }
   ],
   "source": [
    "determinant"
   ]
  },
  {
   "cell_type": "code",
   "execution_count": 45,
   "metadata": {},
   "outputs": [
    {
     "data": {
      "text/plain": [
       "array([1, 4])"
      ]
     },
     "execution_count": 45,
     "metadata": {},
     "output_type": "execute_result"
    }
   ],
   "source": [
    "# Now getting the diagonal elements\n",
    "np.diag(A)"
   ]
  },
  {
   "cell_type": "code",
   "execution_count": 46,
   "metadata": {},
   "outputs": [
    {
     "data": {
      "text/plain": [
       "5"
      ]
     },
     "execution_count": 46,
     "metadata": {},
     "output_type": "execute_result"
    }
   ],
   "source": [
    "# Calculating trace: sum of diagonal elements\n",
    "np.trace(A)\n",
    "# OR np.sum( np.diag(A) )"
   ]
  },
  {
   "cell_type": "code",
   "execution_count": 48,
   "metadata": {},
   "outputs": [
    {
     "data": {
      "text/plain": [
       "array([[1, 0, 0],\n",
       "       [0, 4, 0],\n",
       "       [0, 0, 9]])"
      ]
     },
     "execution_count": 48,
     "metadata": {},
     "output_type": "execute_result"
    }
   ],
   "source": [
    "# Creating the matrix using diag\n",
    "np.diag([1, 4, 9])\n",
    "\n",
    "# i.e 2d input -> 1d output and 1d input -> 2d output"
   ]
  },
  {
   "cell_type": "markdown",
   "metadata": {},
   "source": [
    "- Now creating multivariate gaussian distribution"
   ]
  },
  {
   "cell_type": "code",
   "execution_count": 52,
   "metadata": {},
   "outputs": [],
   "source": [
    "# First dimension and second dimension are independent i.e correlation is 0\n",
    "A = np.random.randn(1000, 2)"
   ]
  },
  {
   "cell_type": "code",
   "execution_count": 53,
   "metadata": {},
   "outputs": [
    {
     "data": {
      "image/png": "[encoded data removed]",
      "text/plain": [
       "<Figure size 432x288 with 1 Axes>"
      ]
     },
     "metadata": {
      "needs_background": "light"
     },
     "output_type": "display_data"
    }
   ],
   "source": [
    "# Verfying by plotting them and it should be like circle\n",
    "\n",
    "import matplotlib.pyplot as plt\n",
    "\n",
    "plt.scatter(A[:, 0], A[:, 1])\n",
    "plt.axis('equal')\n",
    "plt.show()"
   ]
  },
  {
   "cell_type": "markdown",
   "metadata": {},
   "source": [
    "- Formula used for below operation\n",
    "<img src = \"https://th.bing.com/th/id/OIP.zDTVJVOqHxDE2U4O2s-7cAHaGW?w=211&h=185&c=7&o=5&pid=1.7\">"
   ]
  },
  {
   "cell_type": "code",
   "execution_count": 54,
   "metadata": {},
   "outputs": [],
   "source": [
    "# Both the dimensions have the same mean and variance ( standard normal )\n",
    "# Now changing the mean and std of second dimension as 3 and 5 respectively\n",
    "\n",
    "A[:, 1] = 5 * A[:, 1] + 3"
   ]
  },
  {
   "cell_type": "code",
   "execution_count": 55,
   "metadata": {},
   "outputs": [
    {
     "data": {
      "image/png": "[encoded data removed]",
      "text/plain": [
       "<Figure size 432x288 with 1 Axes>"
      ]
     },
     "metadata": {
      "needs_background": "light"
     },
     "output_type": "display_data"
    }
   ],
   "source": [
    "# Shape should be like ellipse\n",
    "plt.scatter(A[:, 0], A[:, 1])\n",
    "plt.axis('equal')\n",
    "plt.show()"
   ]
  },
  {
   "cell_type": "code",
   "execution_count": null,
   "metadata": {},
   "outputs": [],
   "source": []
  }
 ],
 "metadata": {
  "kernelspec": {
   "display_name": "Python 3",
   "language": "python",
   "name": "python3"
  },
  "language_info": {
   "codemirror_mode": {
    "name": "ipython",
    "version": 3
   },
   "file_extension": ".py",
   "mimetype": "text/x-python",
   "name": "python",
   "nbconvert_exporter": "python",
   "pygments_lexer": "ipython3",
   "version": "3.7.2"
  }
 },
 "nbformat": 4,
 "nbformat_minor": 2
}
