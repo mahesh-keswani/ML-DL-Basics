{
  "nbformat": 4,
  "nbformat_minor": 0,
  "metadata": {
    "colab": {
      "name": "LSTM_Examples.ipynb",
      "provenance": [],
      "authorship_tag": "ABX9TyMMiokzaMhqASHiBzIGKWDY",
      "include_colab_link": true
    },
    "kernelspec": {
      "name": "python3",
      "display_name": "Python 3"
    },
    "language_info": {
      "name": "python"
    }
  },
  "cells": [
    {
      "cell_type": "markdown",
      "metadata": {
        "id": "view-in-github",
        "colab_type": "text"
      },
      "source": [
        "<a href=\"https://colab.research.google.com/github/mahesh-keswani/ML-DL-Basics/blob/main/LSTM_Examples.ipynb\" target=\"_parent\"><img src=\"https://colab.research.google.com/assets/colab-badge.svg\" alt=\"Open In Colab\"/></a>"
      ]
    },
    {
      "cell_type": "code",
      "metadata": {
        "id": "T7ml_25J_FgO"
      },
      "source": [
        "# Resource: https://machinelearningmastery.com/how-to-develop-lstm-models-for-time-series-forecasting/\n",
        "# Explaination: https://www.youtube.com/watch?v=9TFnjJkfqmA&list=PLyqSpQzTE6M9gCgajvQbc68Hk_JKGBAYT&index=110\n",
        "\n",
        "# There are many types of LSTM models that can be used for each specific type of time series forecasting problem.\n",
        "# In this tutorial, you will discover how to develop a suite of LSTM models for a range of standard time series forecasting problems."
      ],
      "execution_count": 1,
      "outputs": []
    },
    {
      "cell_type": "code",
      "metadata": {
        "id": "a7bzAvkW_7ij"
      },
      "source": [
        "# The models are demonstrated on small contrived time series problems intended to give the flavor of the type of time\n",
        "#  series problem being addressed. The chosen configuration of the models is arbitrary and not optimized for each problem; \n",
        "#  that was not the goal.\n"
      ],
      "execution_count": 2,
      "outputs": []
    },
    {
      "cell_type": "markdown",
      "metadata": {
        "id": "wWdLhuuyADz4"
      },
      "source": [
        "<h1>Univariate LSTM Models</h1>\n",
        "\n",
        "*   Data Preparation\n",
        "*   Vanilla LSTM\n",
        "*   Stacked LSTM\n",
        "*   Bidirectional LSTM\n",
        "*   CNN LSTM\n",
        "*   ConvLSTM\n"
      ]
    },
    {
      "cell_type": "code",
      "metadata": {
        "id": "f5RwjlMRADE2"
      },
      "source": [
        "# These are problems comprised of a single series of observations and a model is required to learn from the series of \n",
        "# past observations to predict the next value in the sequence.\n",
        "\n",
        "# Before a univariate series can be modeled, it must be prepared.\n",
        "# The LSTM model will learn a function that maps a sequence of past observations as input Sequence to an output observation (next time step).\n",
        "# As such, the sequence of observations must be transformed into multiple examples from which the LSTM can learn.\n",
        "# Consider a given univariate sequence:\n",
        "# [10, 20, 30, 40, 50, 60, 70, 80, 90]\n",
        "# We can divide the sequence into multiple input/output patterns called samples, where \"three time steps\" are used as \n",
        "# input and one time step is used as output for the one-step prediction that is being learned.\n",
        "# X,\t\t\t\ty\n",
        "# 10, 20, 30\t\t40\n",
        "# 20, 30, 40\t\t50\n",
        "# 30, 40, 50\t\t60\n",
        "# \n"
      ],
      "execution_count": 3,
      "outputs": []
    },
    {
      "cell_type": "code",
      "metadata": {
        "colab": {
          "base_uri": "https://localhost:8080/"
        },
        "id": "X8F7P9kkCWI4",
        "outputId": "1c9779fc-7caf-49f8-f2e4-ed1b6c58d470"
      },
      "source": [
        "# univariate data preparation\n",
        "from numpy import array\n",
        "\n",
        "# split a univariate sequence into samples\n",
        "def split_sequence(sequence, n_steps):\n",
        "\tX, y = list(), list()\n",
        "\tfor i in range(len(sequence)):\n",
        "\t\t# find the end of this pattern\n",
        "\t\tend_ix = i + n_steps\n",
        "\n",
        "\t\t# check if we are beyond the sequence\n",
        "\t\tif end_ix > len(sequence)-1:\n",
        "\t\t\tbreak\n",
        "\n",
        "\t\t# gather input and output parts of the pattern\n",
        "\t\tseq_x, seq_y = sequence[i:end_ix], sequence[end_ix]\n",
        "\n",
        "\t\tX.append(seq_x)\n",
        "\t\ty.append(seq_y)\n",
        "  \n",
        "\treturn array(X), array(y)\n",
        "\n",
        "# define input sequence\n",
        "raw_seq = [10, 20, 30, 40, 50, 60, 70, 80, 90]\n",
        "\n",
        "# choose a number of time steps\n",
        "n_steps = 3\n",
        "\n",
        "# split into samples\n",
        "X, y = split_sequence(raw_seq, n_steps)\n",
        "\n",
        "# summarize the data\n",
        "for i in range(len(X)):\n",
        "\tprint(X[i], y[i])"
      ],
      "execution_count": 4,
      "outputs": [
        {
          "output_type": "stream",
          "text": [
            "[10 20 30] 40\n",
            "[20 30 40] 50\n",
            "[30 40 50] 60\n",
            "[40 50 60] 70\n",
            "[50 60 70] 80\n",
            "[60 70 80] 90\n"
          ],
          "name": "stdout"
        }
      ]
    },
    {
      "cell_type": "code",
      "metadata": {
        "id": "j29RqeJ8CktO"
      },
      "source": [
        "# Now that we know how to prepare a univariate series for modeling, let’s look at developing LSTM models that can \n",
        "# learn the mapping of inputs to outputs, starting with a Vanilla LSTM."
      ],
      "execution_count": 5,
      "outputs": []
    },
    {
      "cell_type": "code",
      "metadata": {
        "id": "pfDZnv9vC0Gx"
      },
      "source": [
        "# VANILLA LSTM\n",
        "\n",
        "# A Vanilla LSTM is an LSTM model that has a single hidden layer of LSTM units, and an output layer used to make a prediction.\n",
        "\n",
        "# We can define a Vanilla LSTM for univariate time series forecasting as follows: \n",
        "# model = Sequential()\n",
        "# model.add(LSTM(50, activation='relu', input_shape=(n_steps, n_features)))\n",
        "# model.add(Dense(1))\n",
        "# model.compile(optimizer='adam', loss='mse')\n",
        "\n",
        "# Key in the definition is the shape of the input; that is what the model expects as input for each sample in terms of the number \n",
        "# of time steps and the number of features.\n",
        "# We are working with a univariate series, so the number of features is one, for one variable.\n",
        "# The number of time steps as input is the number we chose when preparing our dataset as an argument to the split_sequence() function.\n",
        "# We almost always have multiple samples, therefore, the model will expect the input component \n",
        "# of training data to have the shape:\n",
        "# [samples, timesteps, features]\n",
        "\n",
        "# Our split_sequence() function in the previous section outputs the X with the shape [samples, timesteps], \n",
        "# so we easily reshape it to have an additional dimension for the one feature.\n"
      ],
      "execution_count": 6,
      "outputs": []
    },
    {
      "cell_type": "code",
      "metadata": {
        "id": "mTKm8DWYEaPy"
      },
      "source": [
        "# reshape from [samples, timesteps] into [samples, timesteps, features]\n",
        "n_features = 1\n",
        "X = X.reshape((X.shape[0], X.shape[1], n_features))"
      ],
      "execution_count": 7,
      "outputs": []
    },
    {
      "cell_type": "code",
      "metadata": {
        "id": "ZXauPGLtEn1R"
      },
      "source": [
        "from tensorflow.keras.models import Sequential\n",
        "from tensorflow.keras.layers import LSTM, Dense\n",
        "\n",
        "# define model\n",
        "model = Sequential()\n",
        "model.add(LSTM(50, activation='relu', input_shape=(n_steps, n_features)))\n",
        "model.add(Dense(1))"
      ],
      "execution_count": 8,
      "outputs": []
    },
    {
      "cell_type": "code",
      "metadata": {
        "colab": {
          "base_uri": "https://localhost:8080/",
          "height": 312
        },
        "id": "eFBx4r2IFhNE",
        "outputId": "65b2abd1-b7a8-4903-ba0f-ac80fd7bbe8a"
      },
      "source": [
        "from tensorflow.keras.utils import plot_model\n",
        "\n",
        "# plot model architecture\n",
        "plot_model(model, show_shapes=True, to_file='vanilla_lstm.png')"
      ],
      "execution_count": 12,
      "outputs": [
        {
          "output_type": "execute_result",
          "data": {
            "image/png": "[encoded data removed]",
            "text/plain": [
              "<IPython.core.display.Image object>"
            ]
          },
          "metadata": {
            "tags": []
          },
          "execution_count": 12
        }
      ]
    },
    {
      "cell_type": "code",
      "metadata": {
        "id": "ylIAeUMIFBTm"
      },
      "source": [
        "model.compile(optimizer='adam', loss='mse')"
      ],
      "execution_count": 9,
      "outputs": []
    },
    {
      "cell_type": "code",
      "metadata": {
        "colab": {
          "base_uri": "https://localhost:8080/"
        },
        "id": "NGRlecjlFFIO",
        "outputId": "5ffbfb2d-6d11-4c52-8507-b7d40ab8c0c4"
      },
      "source": [
        "# fit model\n",
        "model.fit(X, y, epochs=200, verbose=0)"
      ],
      "execution_count": 10,
      "outputs": [
        {
          "output_type": "execute_result",
          "data": {
            "text/plain": [
              "<tensorflow.python.keras.callbacks.History at 0x7ffa6369abd0>"
            ]
          },
          "metadata": {
            "tags": []
          },
          "execution_count": 10
        }
      ]
    },
    {
      "cell_type": "code",
      "metadata": {
        "colab": {
          "base_uri": "https://localhost:8080/"
        },
        "id": "FxaXDJg3FKVh",
        "outputId": "ca7f5f41-a0a8-4673-81b8-7d22fe266088"
      },
      "source": [
        "# demonstrate prediction, testing it\n",
        "x_input = array([70, 80, 90])\n",
        "x_input = x_input.reshape((1, n_steps, n_features))\n",
        "\n",
        "yhat = model.predict(x_input, verbose=0)\n",
        "print(yhat)"
      ],
      "execution_count": 11,
      "outputs": [
        {
          "output_type": "stream",
          "text": [
            "[[102.11746]]\n"
          ],
          "name": "stdout"
        }
      ]
    },
    {
      "cell_type": "code",
      "metadata": {
        "id": "WGVZ9RzYFZBn"
      },
      "source": [
        "# We can see that the model predicts the next value in the sequence"
      ],
      "execution_count": 13,
      "outputs": []
    },
    {
      "cell_type": "code",
      "metadata": {
        "id": "csJ2HZqrGkmn"
      },
      "source": [
        "# STACKED LSTM\n",
        "\n",
        "# Multiple hidden LSTM layers can be stacked one on top of another in what is referred to as a Stacked LSTM model.\n",
        "\n",
        "# An LSTM layer requires a three-dimensional input and LSTMs by default will produce a two-dimensional output as \n",
        "# an interpretation from the end of the sequence.\n",
        "# We can address this by having the LSTM, to output a value for each time step in the input data by setting \n",
        "# the return_sequences=True argument on the layer. This allows us to have 3D output from hidden LSTM layer as input to the next."
      ],
      "execution_count": 14,
      "outputs": []
    },
    {
      "cell_type": "code",
      "metadata": {
        "id": "zaPfJfXHHWJI"
      },
      "source": [
        "# define model\n",
        "model = Sequential()\n",
        "model.add(LSTM(50, activation='relu', return_sequences=True, input_shape=(n_steps, n_features)))\n",
        "model.add(LSTM(50, activation='relu'))\n",
        "model.add(Dense(1))\n",
        "\n",
        "model.compile(optimizer='adam', loss='mse')"
      ],
      "execution_count": 15,
      "outputs": []
    },
    {
      "cell_type": "code",
      "metadata": {
        "colab": {
          "base_uri": "https://localhost:8080/",
          "height": 422
        },
        "id": "pleWLyPCHdbI",
        "outputId": "f14494f5-531a-4b79-bc50-61502898a635"
      },
      "source": [
        "# plot model architecture\n",
        "plot_model(model, show_shapes=True, to_file='stacked_lstm.png')"
      ],
      "execution_count": 16,
      "outputs": [
        {
          "output_type": "execute_result",
          "data": {
            "image/png": "[encoded data removed]",
            "text/plain": [
              "<IPython.core.display.Image object>"
            ]
          },
          "metadata": {
            "tags": []
          },
          "execution_count": 16
        }
      ]
    },
    {
      "cell_type": "code",
      "metadata": {
        "colab": {
          "base_uri": "https://localhost:8080/"
        },
        "id": "v4zexHEAHjtz",
        "outputId": "29d96e77-b17c-4df7-fdcf-c4db3bbe2311"
      },
      "source": [
        "# fit model\n",
        "model.fit(X, y, epochs=200, verbose=0)"
      ],
      "execution_count": 17,
      "outputs": [
        {
          "output_type": "execute_result",
          "data": {
            "text/plain": [
              "<tensorflow.python.keras.callbacks.History at 0x7ffa55c7fdd0>"
            ]
          },
          "metadata": {
            "tags": []
          },
          "execution_count": 17
        }
      ]
    },
    {
      "cell_type": "code",
      "metadata": {
        "colab": {
          "base_uri": "https://localhost:8080/"
        },
        "id": "mJKE3jh8Hu8i",
        "outputId": "368b386e-14a6-481f-faee-39dc69d41235"
      },
      "source": [
        "# demonstrate prediction\n",
        "x_input = array([70, 80, 90])\n",
        "x_input = x_input.reshape((1, n_steps, n_features))\n",
        "\n",
        "yhat = model.predict(x_input, verbose=0)\n",
        "print(yhat)"
      ],
      "execution_count": 18,
      "outputs": [
        {
          "output_type": "stream",
          "text": [
            "[[102.34577]]\n"
          ],
          "name": "stdout"
        }
      ]
    },
    {
      "cell_type": "code",
      "metadata": {
        "id": "UvQWkcXGH1I6"
      },
      "source": [
        "# Running the example predicts the next value in the sequence, which we expect would be 100"
      ],
      "execution_count": 19,
      "outputs": []
    },
    {
      "cell_type": "code",
      "metadata": {
        "id": "lXBhnVGrH85N"
      },
      "source": [
        "# BIDIRECTIONAL LSTM\n",
        "\n",
        "# On some sequence prediction problems, it can be beneficial to allow the LSTM model to learn the input sequence both forward and backwards and\n",
        "# concatenate both interpretations.\n",
        "# This is called a Bidirectional LSTM.\n",
        "\n",
        "# We can implement a Bidirectional LSTM for univariate time series forecasting by wrapping \n",
        "# the first hidden layer in a wrapper layer called Bidirectional.\n",
        "\n",
        "# An example of defining a Bidirectional LSTM to read input from both forward as well from backward is as follows.\n",
        "\n",
        "# define model\n",
        "# model = Sequential()\n",
        "# model.add(Bidirectional( LSTM(50, activation='relu'), input_shape=(n_steps, n_features) ))\n",
        "# model.add(Dense(1))\n",
        "# model.compile(optimizer='adam', loss='mse')"
      ],
      "execution_count": null,
      "outputs": []
    }
  ]
}