{
  "nbformat": 4,
  "nbformat_minor": 0,
  "metadata": {
    "colab": {
      "name": "LSTM_Examples.ipynb",
      "provenance": [],
      "authorship_tag": "ABX9TyMKAN9dC9SrJoZAplN2JXCd",
      "include_colab_link": true
    },
    "kernelspec": {
      "name": "python3",
      "display_name": "Python 3"
    },
    "language_info": {
      "name": "python"
    }
  },
  "cells": [
    {
      "cell_type": "markdown",
      "metadata": {
        "id": "view-in-github",
        "colab_type": "text"
      },
      "source": [
        "<a href=\"https://colab.research.google.com/github/mahesh-keswani/ML-DL-Basics/blob/main/LSTM_Examples.ipynb\" target=\"_parent\"><img src=\"https://colab.research.google.com/assets/colab-badge.svg\" alt=\"Open In Colab\"/></a>"
      ]
    },
    {
      "cell_type": "code",
      "metadata": {
        "id": "T7ml_25J_FgO"
      },
      "source": [
        "# Resource: https://machinelearningmastery.com/how-to-develop-lstm-models-for-time-series-forecasting/\n",
        "# Explaination: https://www.youtube.com/watch?v=9TFnjJkfqmA&list=PLyqSpQzTE6M9gCgajvQbc68Hk_JKGBAYT&index=110\n",
        "\n",
        "# There are many types of LSTM models that can be used for each specific type of time series forecasting problem.\n",
        "# In this tutorial, you will discover how to develop a suite of LSTM models for a range of standard time series forecasting problems."
      ],
      "execution_count": null,
      "outputs": []
    },
    {
      "cell_type": "code",
      "metadata": {
        "id": "a7bzAvkW_7ij"
      },
      "source": [
        "# The models are demonstrated on small contrived time series problems intended to give the flavor of the type of time\n",
        "#  series problem being addressed. The chosen configuration of the models is arbitrary and not optimized for each problem; \n",
        "#  that was not the goal.\n"
      ],
      "execution_count": null,
      "outputs": []
    },
    {
      "cell_type": "markdown",
      "metadata": {
        "id": "wWdLhuuyADz4"
      },
      "source": [
        "<h1>Univariate LSTM Models</h1>\n",
        "\n",
        "*   Data Preparation\n",
        "*   Vanilla LSTM\n",
        "*   Stacked LSTM\n",
        "*   Bidirectional LSTM\n",
        "*   CNN LSTM\n"
      ]
    },
    {
      "cell_type": "code",
      "metadata": {
        "id": "f5RwjlMRADE2"
      },
      "source": [
        "# These are problems comprised of a single series of observations and a model is required to learn from the series of \n",
        "# past observations to predict the next value in the sequence.\n",
        "\n",
        "# Before a univariate series can be modeled, it must be prepared.\n",
        "# The LSTM model will learn a function that maps a sequence of past observations as input Sequence to an output observation (next time step).\n",
        "# As such, the sequence of observations must be transformed into multiple examples from which the LSTM can learn.\n",
        "# Consider a given univariate sequence:\n",
        "# [10, 20, 30, 40, 50, 60, 70, 80, 90]\n",
        "# We can divide the sequence into multiple input/output patterns called samples, where \"three time steps\" are used as \n",
        "# input and one time step is used as output for the one-step prediction that is being learned.\n",
        "# X,\t\t\t\ty\n",
        "# 10, 20, 30\t\t40\n",
        "# 20, 30, 40\t\t50\n",
        "# 30, 40, 50\t\t60\n",
        "# \n"
      ],
      "execution_count": null,
      "outputs": []
    },
    {
      "cell_type": "code",
      "metadata": {
        "colab": {
          "base_uri": "https://localhost:8080/"
        },
        "id": "X8F7P9kkCWI4",
        "outputId": "31aad5b6-005d-442b-caf3-ebf765a254c4"
      },
      "source": [
        "# univariate data preparation\n",
        "from numpy import array\n",
        "\n",
        "# split a univariate sequence into samples\n",
        "def split_sequence(sequence, n_steps):\n",
        "\tX, y = list(), list()\n",
        "\tfor i in range(len(sequence)):\n",
        "\t\t# find the end of this pattern\n",
        "\t\tend_ix = i + n_steps\n",
        "\n",
        "\t\t# check if we are beyond the sequence\n",
        "\t\tif end_ix > len(sequence)-1:\n",
        "\t\t\tbreak\n",
        "\n",
        "\t\t# gather input and output parts of the pattern\n",
        "\t\tseq_x, seq_y = sequence[i:end_ix], sequence[end_ix]\n",
        "\n",
        "\t\tX.append(seq_x)\n",
        "\t\ty.append(seq_y)\n",
        "  \n",
        "\treturn array(X), array(y)\n",
        "\n",
        "# define input sequence\n",
        "raw_seq = [10, 20, 30, 40, 50, 60, 70, 80, 90]\n",
        "\n",
        "# choose a number of time steps\n",
        "n_steps = 3\n",
        "\n",
        "# split into samples\n",
        "X, y = split_sequence(raw_seq, n_steps)\n",
        "\n",
        "# summarize the data\n",
        "for i in range(len(X)):\n",
        "\tprint(X[i], y[i])"
      ],
      "execution_count": null,
      "outputs": [
        {
          "output_type": "stream",
          "text": [
            "[10 20 30] 40\n",
            "[20 30 40] 50\n",
            "[30 40 50] 60\n",
            "[40 50 60] 70\n",
            "[50 60 70] 80\n",
            "[60 70 80] 90\n"
          ],
          "name": "stdout"
        }
      ]
    },
    {
      "cell_type": "code",
      "metadata": {
        "id": "j29RqeJ8CktO"
      },
      "source": [
        "# Now that we know how to prepare a univariate series for modeling, let’s look at developing LSTM models that can \n",
        "# learn the mapping of inputs to outputs, starting with a Vanilla LSTM."
      ],
      "execution_count": null,
      "outputs": []
    },
    {
      "cell_type": "code",
      "metadata": {
        "id": "pfDZnv9vC0Gx"
      },
      "source": [
        "# VANILLA LSTM\n",
        "\n",
        "# A Vanilla LSTM is an LSTM model that has a single hidden layer of LSTM units, and an output layer used to make a prediction.\n",
        "\n",
        "# We can define a Vanilla LSTM for univariate time series forecasting as follows: \n",
        "# model = Sequential()\n",
        "# model.add(LSTM(50, activation='relu', input_shape=(n_steps, n_features)))\n",
        "# model.add(Dense(1))\n",
        "# model.compile(optimizer='adam', loss='mse')\n",
        "\n",
        "# Key in the definition is the shape of the input; that is what the model expects as input for each sample in terms of the number \n",
        "# of time steps and the number of features.\n",
        "# We are working with a univariate series, so the number of features is one, for one variable.\n",
        "# The number of time steps as input is the number we chose when preparing our dataset as an argument to the split_sequence() function.\n",
        "# We almost always have multiple samples, therefore, the model will expect the input component \n",
        "# of training data to have the shape:\n",
        "# [samples, timesteps, features]\n",
        "\n",
        "# Our split_sequence() function in the previous section outputs the X with the shape [samples, timesteps], \n",
        "# so we easily reshape it to have an additional dimension for the one feature.\n"
      ],
      "execution_count": null,
      "outputs": []
    },
    {
      "cell_type": "code",
      "metadata": {
        "id": "mTKm8DWYEaPy"
      },
      "source": [
        "# reshape from [samples, timesteps] into [samples, timesteps, features]\n",
        "n_features = 1\n",
        "X = X.reshape((X.shape[0], X.shape[1], n_features))"
      ],
      "execution_count": null,
      "outputs": []
    },
    {
      "cell_type": "code",
      "metadata": {
        "id": "ZXauPGLtEn1R"
      },
      "source": [
        "from tensorflow.keras.models import Sequential\n",
        "from tensorflow.keras.layers import LSTM, Dense\n",
        "\n",
        "# define model\n",
        "model = Sequential()\n",
        "model.add(LSTM(50, activation='relu', input_shape=(n_steps, n_features)))\n",
        "model.add(Dense(1))"
      ],
      "execution_count": null,
      "outputs": []
    },
    {
      "cell_type": "code",
      "metadata": {
        "colab": {
          "base_uri": "https://localhost:8080/",
          "height": 312
        },
        "id": "eFBx4r2IFhNE",
        "outputId": "45370f3a-2a1d-4dc5-fc3a-1214228b99db"
      },
      "source": [
        "from tensorflow.keras.utils import plot_model\n",
        "\n",
        "# plot model architecture\n",
        "plot_model(model, show_shapes=True, to_file='vanilla_lstm.png')"
      ],
      "execution_count": null,
      "outputs": [
        {
          "output_type": "execute_result",
          "data": {
            "image/png": "[encoded data removed]",
            "text/plain": [
              "<IPython.core.display.Image object>"
            ]
          },
          "metadata": {
            "tags": []
          },
          "execution_count": 9
        }
      ]
    },
    {
      "cell_type": "code",
      "metadata": {
        "id": "ylIAeUMIFBTm"
      },
      "source": [
        "model.compile(optimizer='adam', loss='mse')"
      ],
      "execution_count": null,
      "outputs": []
    },
    {
      "cell_type": "code",
      "metadata": {
        "colab": {
          "base_uri": "https://localhost:8080/"
        },
        "id": "NGRlecjlFFIO",
        "outputId": "ea3e7354-7169-426d-8a8b-5ac0ef5cd150"
      },
      "source": [
        "# fit model\n",
        "model.fit(X, y, epochs=200, verbose=0)"
      ],
      "execution_count": null,
      "outputs": [
        {
          "output_type": "execute_result",
          "data": {
            "text/plain": [
              "<tensorflow.python.keras.callbacks.History at 0x7fa67fcd37d0>"
            ]
          },
          "metadata": {
            "tags": []
          },
          "execution_count": 11
        }
      ]
    },
    {
      "cell_type": "code",
      "metadata": {
        "colab": {
          "base_uri": "https://localhost:8080/"
        },
        "id": "FxaXDJg3FKVh",
        "outputId": "c3b34ec9-37dc-4fef-b5ce-8370304f2266"
      },
      "source": [
        "# demonstrate prediction, testing it\n",
        "x_input = array([70, 80, 90])\n",
        "x_input = x_input.reshape((1, n_steps, n_features))\n",
        "\n",
        "yhat = model.predict(x_input, verbose=0)\n",
        "print(yhat)"
      ],
      "execution_count": null,
      "outputs": [
        {
          "output_type": "stream",
          "text": [
            "[[101.3089]]\n"
          ],
          "name": "stdout"
        }
      ]
    },
    {
      "cell_type": "code",
      "metadata": {
        "id": "WGVZ9RzYFZBn"
      },
      "source": [
        "# We can see that the model predicts the next value in the sequence"
      ],
      "execution_count": null,
      "outputs": []
    },
    {
      "cell_type": "code",
      "metadata": {
        "id": "csJ2HZqrGkmn"
      },
      "source": [
        "# STACKED LSTM\n",
        "\n",
        "# Multiple hidden LSTM layers can be stacked one on top of another in what is referred to as a Stacked LSTM model.\n",
        "\n",
        "# An LSTM layer requires a three-dimensional input and LSTMs by default will produce a two-dimensional output as \n",
        "# an interpretation from the end of the sequence.\n",
        "# We can address this by having the LSTM, to output a value for each time step in the input data by setting \n",
        "# the return_sequences=True argument on the layer. This allows us to have 3D output from hidden LSTM layer as input to the next."
      ],
      "execution_count": null,
      "outputs": []
    },
    {
      "cell_type": "code",
      "metadata": {
        "id": "zaPfJfXHHWJI"
      },
      "source": [
        "# define model\n",
        "model = Sequential()\n",
        "model.add(LSTM(50, activation='relu', return_sequences=True, input_shape=(n_steps, n_features)))\n",
        "model.add(LSTM(50, activation='relu'))\n",
        "model.add(Dense(1))\n",
        "\n",
        "model.compile(optimizer='adam', loss='mse')"
      ],
      "execution_count": null,
      "outputs": []
    },
    {
      "cell_type": "code",
      "metadata": {
        "colab": {
          "base_uri": "https://localhost:8080/",
          "height": 422
        },
        "id": "pleWLyPCHdbI",
        "outputId": "9e035889-3eed-4171-cbb1-8d9e708f4d87"
      },
      "source": [
        "# plot model architecture\n",
        "plot_model(model, show_shapes=True, to_file='stacked_lstm.png')"
      ],
      "execution_count": null,
      "outputs": [
        {
          "output_type": "execute_result",
          "data": {
            "image/png": "[encoded data removed]",
            "text/plain": [
              "<IPython.core.display.Image object>"
            ]
          },
          "metadata": {
            "tags": []
          },
          "execution_count": 16
        }
      ]
    },
    {
      "cell_type": "code",
      "metadata": {
        "colab": {
          "base_uri": "https://localhost:8080/"
        },
        "id": "v4zexHEAHjtz",
        "outputId": "5e9c2c37-1ad1-4b71-c15d-89782df2fa03"
      },
      "source": [
        "# fit model\n",
        "model.fit(X, y, epochs=200, verbose=0)"
      ],
      "execution_count": null,
      "outputs": [
        {
          "output_type": "execute_result",
          "data": {
            "text/plain": [
              "<tensorflow.python.keras.callbacks.History at 0x7fa67bd206d0>"
            ]
          },
          "metadata": {
            "tags": []
          },
          "execution_count": 17
        }
      ]
    },
    {
      "cell_type": "code",
      "metadata": {
        "colab": {
          "base_uri": "https://localhost:8080/"
        },
        "id": "mJKE3jh8Hu8i",
        "outputId": "47634cff-6405-4178-94c8-e44e063a6827"
      },
      "source": [
        "# demonstrate prediction\n",
        "x_input = array([70, 80, 90])\n",
        "x_input = x_input.reshape((1, n_steps, n_features))\n",
        "\n",
        "yhat = model.predict(x_input, verbose=0)\n",
        "print(yhat)"
      ],
      "execution_count": null,
      "outputs": [
        {
          "output_type": "stream",
          "text": [
            "[[102.51523]]\n"
          ],
          "name": "stdout"
        }
      ]
    },
    {
      "cell_type": "code",
      "metadata": {
        "id": "UvQWkcXGH1I6"
      },
      "source": [
        "# Running the example predicts the next value in the sequence, which we expect would be 100"
      ],
      "execution_count": null,
      "outputs": []
    },
    {
      "cell_type": "code",
      "metadata": {
        "id": "lXBhnVGrH85N"
      },
      "source": [
        "# BIDIRECTIONAL LSTM\n",
        "\n",
        "# On some sequence prediction problems, it can be beneficial to allow the LSTM model to learn the input sequence both forward and backwards and\n",
        "# concatenate both interpretations.\n",
        "# This is called a Bidirectional LSTM.\n",
        "\n",
        "# We can implement a Bidirectional LSTM for univariate time series forecasting by wrapping \n",
        "# the first hidden layer in a wrapper layer called Bidirectional.\n",
        "\n",
        "# An example of defining a Bidirectional LSTM to read input from both forward as well from backward is as follows.\n",
        "\n",
        "# define model\n",
        "# model = Sequential()\n",
        "# model.add(Bidirectional( LSTM(50, activation='relu'), input_shape=(n_steps, n_features) ))\n",
        "# model.add(Dense(1))\n",
        "# model.compile(optimizer='adam', loss='mse')"
      ],
      "execution_count": null,
      "outputs": []
    },
    {
      "cell_type": "code",
      "metadata": {
        "id": "I_Kj9encVhnH"
      },
      "source": [
        "from tensorflow.keras.layers import Bidirectional\n",
        "\n",
        "# define model\n",
        "model = Sequential()\n",
        "model.add(Bidirectional(LSTM(50, activation='relu'), input_shape=(n_steps, n_features)))\n",
        "model.add(Dense(1))\n",
        "\n",
        "model.compile(optimizer='adam', loss='mse')"
      ],
      "execution_count": null,
      "outputs": []
    },
    {
      "cell_type": "code",
      "metadata": {
        "colab": {
          "base_uri": "https://localhost:8080/",
          "height": 312
        },
        "id": "en9nqVhFV9eR",
        "outputId": "cb93845b-fb07-4bfa-c1e2-4b6f5e360547"
      },
      "source": [
        "# plot model architecture\n",
        "plot_model(model, show_shapes=True, to_file='bidirectional_lstm.png')"
      ],
      "execution_count": null,
      "outputs": [
        {
          "output_type": "execute_result",
          "data": {
            "image/png": "[encoded data removed]",
            "text/plain": [
              "<IPython.core.display.Image object>"
            ]
          },
          "metadata": {
            "tags": []
          },
          "execution_count": 22
        }
      ]
    },
    {
      "cell_type": "code",
      "metadata": {
        "colab": {
          "base_uri": "https://localhost:8080/"
        },
        "id": "Lu58eDR8WEA5",
        "outputId": "eb83e865-c9c0-4c51-fd61-28c9e468de78"
      },
      "source": [
        "# fit model\n",
        "model.fit(X, y, epochs=200, verbose=0)"
      ],
      "execution_count": null,
      "outputs": [
        {
          "output_type": "execute_result",
          "data": {
            "text/plain": [
              "<tensorflow.python.keras.callbacks.History at 0x7fa67fcd3e10>"
            ]
          },
          "metadata": {
            "tags": []
          },
          "execution_count": 23
        }
      ]
    },
    {
      "cell_type": "code",
      "metadata": {
        "colab": {
          "base_uri": "https://localhost:8080/"
        },
        "id": "AB5lm5FIWchn",
        "outputId": "4b8df2b5-9f49-44cf-a72e-6c09102c6b21"
      },
      "source": [
        "model.summary()"
      ],
      "execution_count": null,
      "outputs": [
        {
          "output_type": "stream",
          "text": [
            "Model: \"sequential_2\"\n",
            "_________________________________________________________________\n",
            "Layer (type)                 Output Shape              Param #   \n",
            "=================================================================\n",
            "bidirectional (Bidirectional (None, 100)               20800     \n",
            "_________________________________________________________________\n",
            "dense_2 (Dense)              (None, 1)                 101       \n",
            "=================================================================\n",
            "Total params: 20,901\n",
            "Trainable params: 20,901\n",
            "Non-trainable params: 0\n",
            "_________________________________________________________________\n"
          ],
          "name": "stdout"
        }
      ]
    },
    {
      "cell_type": "code",
      "metadata": {
        "colab": {
          "base_uri": "https://localhost:8080/"
        },
        "id": "I0l0qQ1BWUzq",
        "outputId": "ce93059b-05e1-4f8f-bd41-61f834e4e97e"
      },
      "source": [
        "# demonstrate prediction\n",
        "x_input = array([70, 80, 90])\n",
        "x_input = x_input.reshape((1, n_steps, n_features))\n",
        "\n",
        "yhat = model.predict(x_input, verbose=0)\n",
        "print(yhat)"
      ],
      "execution_count": null,
      "outputs": [
        {
          "output_type": "stream",
          "text": [
            "[[100.13192]]\n"
          ],
          "name": "stdout"
        }
      ]
    },
    {
      "cell_type": "code",
      "metadata": {
        "id": "rPozpLaPWZYK"
      },
      "source": [
        "# CNN-LSTM \n",
        "# A convolutional neural network, or CNN for short, is a type of neural network developed for working with \n",
        "# two-dimensional image data.\n",
        "\n",
        "# The CNN can be very effective at automatically extracting and learning features from one-dimensional sequence data \n",
        "# such as univariate time series data.\n",
        "\n",
        "# A CNN model can be used in a hybrid model with an LSTM backend where the CNN is used to interpret subsequences \n",
        "# of input that together are provided as a sequence to an LSTM model to interpret. This hybrid model is called a CNN-LSTM.\n",
        "\n",
        "# The first step is to split the input sequences into subsequences that can be processed by the CNN model.\n",
        "# For example, we can first split our univariate time series data into input/output samples with four steps as input and \n",
        "# one as output. Each sample can then be split into two sub-samples, each with two time steps. \n",
        "# The CNN can interpret each subsequence of two time steps and provide a time series of interpretations of the subsequences \n",
        "# to the LSTM model to process as input.\n",
        "\n",
        "# We can parameterize this and define the number of subsequences as n_seq and the number of time steps per subsequence \n",
        "# as n_steps. The input data can then be reshaped to have the required structure:\n",
        "# [samples, subsequences, timesteps, features]"
      ],
      "execution_count": null,
      "outputs": []
    },
    {
      "cell_type": "code",
      "metadata": {
        "id": "v7mlke8WbLCz",
        "colab": {
          "base_uri": "https://localhost:8080/"
        },
        "outputId": "e64e0958-d7b3-430f-fdeb-eb1c7f2d72e3"
      },
      "source": [
        "# choose a number of time steps\n",
        "n_steps = 4\n",
        "\n",
        "# split into samples\n",
        "X, y = split_sequence(raw_seq, n_steps)\n",
        "print(X.shape)\n",
        "\n",
        "# reshape from [samples, timesteps] into [samples, subsequences, timesteps, features]\n",
        "n_features = 1\n",
        "n_seq = 2\n",
        "# we had 4 timesteps and for each timestep we want to divide it into the subsequences of length 2, \n",
        "# therefore total number of subsequences in each timestep = 4 / 2 = 2\n",
        "n_steps = 2 \n",
        "\n",
        "# therefore shape = (samples, no_of_sequences_in_each_timestep, length_of_each_sequnece, n_features)\n",
        "X = X.reshape((X.shape[0], n_seq, n_steps, n_features))\n",
        "print(X.shape)"
      ],
      "execution_count": null,
      "outputs": [
        {
          "output_type": "stream",
          "text": [
            "(5, 4)\n",
            "(5, 2, 2, 1)\n"
          ],
          "name": "stdout"
        }
      ]
    },
    {
      "cell_type": "code",
      "metadata": {
        "id": "loqjiC6-5x2_"
      },
      "source": [
        "# We want to reuse the same CNN model when reading in each sub-sequence of data separately.\n",
        "# This can be achieved by wrapping the entire CNN model in a TimeDistributed wrapper that will apply the entire model once per input, \n",
        "# in this case, once per input subsequence.\n",
        "\n",
        "# The CNN model first has a convolutional layer for reading across the subsequence that requires a number of filters and a \n",
        "# kernel size to be specified. The number of filters is the number of reads or interpretations of the input sequence. \n",
        "# The kernel size is the number of time steps included of each ‘read’ operation of the input sequence.\n",
        "\n",
        "# The convolution layer is followed by a max pooling layer that distills the filter maps down to 1/2 of their size that \n",
        "# includes the most important features. These structures are then flattened down to a single one-dimensional vector to be used\n",
        "#  as a single input time step to the LSTM layer."
      ],
      "execution_count": 28,
      "outputs": []
    },
    {
      "cell_type": "code",
      "metadata": {
        "id": "FucohLBUCIb8"
      },
      "source": [
        "from tensorflow.keras.layers import TimeDistributed\n",
        "from tensorflow.keras.layers import Conv1D, MaxPooling1D, Flatten\n"
      ],
      "execution_count": 32,
      "outputs": []
    },
    {
      "cell_type": "code",
      "metadata": {
        "id": "K__bAvdkCfh-"
      },
      "source": [
        "# define model\n",
        "model = Sequential()\n",
        "model.add(TimeDistributed(Conv1D(filters=64, kernel_size=1, activation='relu'), input_shape=(None, n_steps, n_features)))\n",
        "model.add(TimeDistributed(MaxPooling1D(pool_size=2)))\n",
        "\n",
        "model.add(TimeDistributed(Flatten()))\n",
        "\n",
        "model.add(LSTM(50, activation='relu'))\n",
        "model.add(Dense(1))"
      ],
      "execution_count": 33,
      "outputs": []
    },
    {
      "cell_type": "code",
      "metadata": {
        "colab": {
          "base_uri": "https://localhost:8080/",
          "height": 644
        },
        "id": "vNl58i9sCruz",
        "outputId": "6256c244-7e70-4a4e-e6f0-9a6fcbda17f6"
      },
      "source": [
        "# plot model architecture\n",
        "plot_model(model, show_shapes=True, to_file='cnn_lstm.png')"
      ],
      "execution_count": 34,
      "outputs": [
        {
          "output_type": "execute_result",
          "data": {
            "image/png": "[encoded data removed]",
            "text/plain": [
              "<IPython.core.display.Image object>"
            ]
          },
          "metadata": {
            "tags": []
          },
          "execution_count": 34
        }
      ]
    },
    {
      "cell_type": "code",
      "metadata": {
        "id": "Sieg2LY7C1Hp"
      },
      "source": [
        "model.compile(optimizer='adam', loss='mse')"
      ],
      "execution_count": 35,
      "outputs": []
    },
    {
      "cell_type": "code",
      "metadata": {
        "colab": {
          "base_uri": "https://localhost:8080/"
        },
        "id": "EtQf76ScDFh8",
        "outputId": "11a14b19-5fce-4a0a-9f80-3b0ada0f67ed"
      },
      "source": [
        "# fit model\n",
        "model.fit(X, y, epochs=200, verbose=0)"
      ],
      "execution_count": 36,
      "outputs": [
        {
          "output_type": "execute_result",
          "data": {
            "text/plain": [
              "<tensorflow.python.keras.callbacks.History at 0x7fa676640d50>"
            ]
          },
          "metadata": {
            "tags": []
          },
          "execution_count": 36
        }
      ]
    },
    {
      "cell_type": "code",
      "metadata": {
        "colab": {
          "base_uri": "https://localhost:8080/"
        },
        "id": "sz4TEArADKYG",
        "outputId": "9830d7f3-b9e0-479b-8694-efe50545a249"
      },
      "source": [
        "# demonstrate prediction\n",
        "x_input = array([60, 70, 80, 90])\n",
        "x_input = x_input.reshape((1, n_seq, n_steps, n_features))\n",
        "\n",
        "yhat = model.predict(x_input, verbose=0)\n",
        "print(yhat)"
      ],
      "execution_count": 37,
      "outputs": [
        {
          "output_type": "stream",
          "text": [
            "[[101.86004]]\n"
          ],
          "name": "stdout"
        }
      ]
    },
    {
      "cell_type": "markdown",
      "metadata": {
        "id": "lj0gQiPyDfoi"
      },
      "source": [
        "<h1>Multivariate LSTM models </h1>"
      ]
    },
    {
      "cell_type": "code",
      "metadata": {
        "id": "MEvXm_RwDSHS"
      },
      "source": [
        "# Multivariate time series data means data where there is more than one observation for each time step.\n",
        "# There are two main models that we may require with multivariate time series data; they are:\n",
        "\n",
        "# Multiple Input Series.\n",
        "# Multiple Parallel Series."
      ],
      "execution_count": 38,
      "outputs": []
    },
    {
      "cell_type": "code",
      "metadata": {
        "id": "_idfKyJSIX2G"
      },
      "source": [
        "# Multiple Input Series\n",
        "\n",
        "# A problem may have two or more parallel input time series and an output time series that is dependent on the input time series.\n",
        "# The input time series are parallel because each series has an observation at the same time steps.\n",
        "# We can demonstrate this with a simple example of two parallel input time series where the output series is \n",
        "# the simple addition of the input series.\n",
        "\n",
        "# # define input sequence\n",
        "# in_seq1 = array([10, 20, 30, 40, 50, 60, 70, 80, 90])\n",
        "# in_seq2 = array([15, 25, 35, 45, 55, 65, 75, 85, 95])\n",
        "# out_seq = array([in_seq1[i]+in_seq2[i] for i in range(len(in_seq1))])\n",
        "\n",
        "# We can reshape these three arrays of data as a single dataset where each row is a time step, \n",
        "# and each column is a separate time series. This is a standard way of storing parallel time series in a CSV file.\n",
        "\n",
        "# convert to [rows, columns] structure\n",
        "# in_seq1 = in_seq1.reshape( (len(in_seq1), 1) )\n",
        "# in_seq2 = in_seq2.reshape( (len(in_seq2), 1) )\n",
        "# out_seq = out_seq.reshape( (len(out_seq), 1) )\n",
        "\n",
        "# # horizontally stack columns\n",
        "# dataset = hstack((in_seq1, in_seq2, out_seq))"
      ],
      "execution_count": 39,
      "outputs": []
    },
    {
      "cell_type": "code",
      "metadata": {
        "id": "qwOPu9ZNJUWT"
      },
      "source": [
        "# define input sequence\n",
        "in_seq1 = array([10, 20, 30, 40, 50, 60, 70, 80, 90])\n",
        "in_seq2 = array([15, 25, 35, 45, 55, 65, 75, 85, 95])\n",
        "\n",
        "out_seq = array([in_seq1[i]+in_seq2[i] for i in range(len(in_seq1))])"
      ],
      "execution_count": 40,
      "outputs": []
    },
    {
      "cell_type": "code",
      "metadata": {
        "colab": {
          "base_uri": "https://localhost:8080/"
        },
        "id": "ow17g6ozJVrC",
        "outputId": "8b5923d1-ccef-4127-96b5-106adc00b55f"
      },
      "source": [
        "from numpy import hstack\n",
        "\n",
        "# convert to [rows, columns] structure\n",
        "in_seq1 = in_seq1.reshape((len(in_seq1), 1))\n",
        "in_seq2 = in_seq2.reshape((len(in_seq2), 1))\n",
        "out_seq = out_seq.reshape((len(out_seq), 1))\n",
        "\n",
        "# horizontally stack columns\n",
        "dataset = hstack((in_seq1, in_seq2, out_seq))\n",
        "\n",
        "for row in dataset:\n",
        "    print(row)"
      ],
      "execution_count": 41,
      "outputs": [
        {
          "output_type": "stream",
          "text": [
            "[10 15 25]\n",
            "[20 25 45]\n",
            "[30 35 65]\n",
            "[40 45 85]\n",
            "[ 50  55 105]\n",
            "[ 60  65 125]\n",
            "[ 70  75 145]\n",
            "[ 80  85 165]\n",
            "[ 90  95 185]\n"
          ],
          "name": "stdout"
        }
      ]
    },
    {
      "cell_type": "code",
      "metadata": {
        "id": "KHq_7hEVJgy0"
      },
      "source": [
        "# As with the univariate time series, we must structure these data into samples with input and output elements.\n",
        "\n",
        "# An LSTM model needs sufficient context to learn a mapping from an input sequence to an output value. LSTMs can \n",
        "# support parallel input time series as separate variables or features. Therefore, we need to split the data into \n",
        "# samples maintaining the order of observations across the two input sequences.\n",
        "\n",
        "# If we chose three input time steps, then the first sample would look as follows:\n",
        "# Input:\n",
        "# 10, 15\n",
        "# 20, 25\n",
        "# 30, 35\n",
        "\n",
        "# Output: 65\n",
        "\n",
        "# That is, the first three time steps of each parallel series are provided as input to the model and the model associates \n",
        "# this with the value in the output series at the third time step, in this case, 65.\n",
        "\n",
        "# We can see that, in transforming the time series into input/output samples to train the model, that we \n",
        "# will have to discard some values from the output time series where we do not have values in the input time \n",
        "# series at prior time steps. In turn, the choice of the size of the number of input time steps will have an \n",
        "# important effect on how much of the training data is used."
      ],
      "execution_count": 42,
      "outputs": []
    },
    {
      "cell_type": "code",
      "metadata": {
        "id": "ShAmcInHLES7"
      },
      "source": [
        "# We can define a function named split_sequences() that will take a dataset as we have defined it with rows \n",
        "# for time steps and columns for parallel series and return input/output samples.\n",
        "\n",
        "# split a multivariate sequence into samples\n",
        "def split_sequences(sequences, n_steps):\n",
        "\tX, y = list(), list()\n",
        "\tfor i in range(len(sequences)):\n",
        "     \n",
        "\t\t# find the end of this pattern\n",
        "\t\tend_ix = i + n_steps\n",
        "\n",
        "\t\t# check if we are beyond the dataset\n",
        "\t\tif end_ix > len(sequences):\n",
        "\t\t\tbreak\n",
        "\n",
        "\t\t# gather input and output parts of the pattern\n",
        "\t\tseq_x, seq_y = sequences[i:end_ix, :-1], sequences[end_ix-1, -1]\n",
        "\n",
        "\t\tX.append(seq_x)\n",
        "\t\ty.append(seq_y)\n",
        "  \n",
        "\treturn array(X), array(y)"
      ],
      "execution_count": 43,
      "outputs": []
    },
    {
      "cell_type": "code",
      "metadata": {
        "colab": {
          "base_uri": "https://localhost:8080/"
        },
        "id": "024ejthpLmrh",
        "outputId": "cd414914-2698-4da2-bdf3-1208b25ee7c4"
      },
      "source": [
        "# choose a number of time steps\n",
        "n_steps = 3\n",
        "\n",
        "# convert into input/output\n",
        "X, y = split_sequences(dataset, n_steps)\n",
        "\n",
        "print(X.shape, y.shape)\n",
        "# summarize the data\n",
        "\n",
        "for i in range(len(X)):\n",
        "\tprint(X[i], y[i])"
      ],
      "execution_count": 44,
      "outputs": [
        {
          "output_type": "stream",
          "text": [
            "(7, 3, 2) (7,)\n",
            "[[10 15]\n",
            " [20 25]\n",
            " [30 35]] 65\n",
            "[[20 25]\n",
            " [30 35]\n",
            " [40 45]] 85\n",
            "[[30 35]\n",
            " [40 45]\n",
            " [50 55]] 105\n",
            "[[40 45]\n",
            " [50 55]\n",
            " [60 65]] 125\n",
            "[[50 55]\n",
            " [60 65]\n",
            " [70 75]] 145\n",
            "[[60 65]\n",
            " [70 75]\n",
            " [80 85]] 165\n",
            "[[70 75]\n",
            " [80 85]\n",
            " [90 95]] 185\n"
          ],
          "name": "stdout"
        }
      ]
    },
    {
      "cell_type": "code",
      "metadata": {
        "id": "yn3Ufa3YLy9L"
      },
      "source": [
        "# The first dimension is the number of samples, in this case 7. The second dimension is the number of time steps per sample, \n",
        "# in this case 3, the value specified to the function. Finally, the last dimension specifies the number of parallel time series \n",
        "# or the number of variables, in this case 2 for the two parallel series.\n",
        "\n",
        "# This is the exact three-dimensional structure expected by an LSTM as input. The data is ready to use without further reshaping.\n",
        "\n",
        "# We are now ready to fit an LSTM model on this data.\n",
        "\n",
        "# Any of the varieties of LSTMs in the previous section can be used, such as a Vanilla, Stacked, Bidirectional or CNN-LSTM.\n",
        "\n",
        "# We will use a Vanilla LSTM where the number of time steps and parallel series (features) are specified for the input layer \n",
        "# via the input_shape argument."
      ],
      "execution_count": 45,
      "outputs": []
    },
    {
      "cell_type": "code",
      "metadata": {
        "id": "qGLtFjJkMq9G"
      },
      "source": [
        "# the dataset knows the number of features, e.g. 2\n",
        "n_features = X.shape[2]\n",
        "\n",
        "# define model\n",
        "model = Sequential()\n",
        "model.add(LSTM(50, activation='relu', input_shape=(n_steps, n_features)))\n",
        "model.add(Dense(1))\n",
        "\n",
        "model.compile(optimizer='adam', loss='mse')"
      ],
      "execution_count": 46,
      "outputs": []
    },
    {
      "cell_type": "code",
      "metadata": {
        "colab": {
          "base_uri": "https://localhost:8080/"
        },
        "id": "dpuR2KFaNAuJ",
        "outputId": "4686bb55-1eb5-4e68-e194-770a16401961"
      },
      "source": [
        "# fit model\n",
        "model.fit(X, y, epochs=200, verbose=0)"
      ],
      "execution_count": 47,
      "outputs": [
        {
          "output_type": "execute_result",
          "data": {
            "text/plain": [
              "<tensorflow.python.keras.callbacks.History at 0x7fa673925710>"
            ]
          },
          "metadata": {
            "tags": []
          },
          "execution_count": 47
        }
      ]
    },
    {
      "cell_type": "code",
      "metadata": {
        "colab": {
          "base_uri": "https://localhost:8080/"
        },
        "id": "3Oqr9nKBNE7q",
        "outputId": "9e77e6c9-c0e8-4446-87a2-8ff20b4849fd"
      },
      "source": [
        "# demonstrate prediction\n",
        "x_input = array([[80, 85], [90, 95], [100, 105]])\n",
        "x_input = x_input.reshape((1, n_steps, n_features))\n",
        "\n",
        "yhat = model.predict(x_input, verbose=0)\n",
        "print(yhat)"
      ],
      "execution_count": 48,
      "outputs": [
        {
          "output_type": "stream",
          "text": [
            "WARNING:tensorflow:5 out of the last 5 calls to <function Model.make_predict_function.<locals>.predict_function at 0x7fa672e6b3b0> triggered tf.function retracing. Tracing is expensive and the excessive number of tracings could be due to (1) creating @tf.function repeatedly in a loop, (2) passing tensors with different shapes, (3) passing Python objects instead of tensors. For (1), please define your @tf.function outside of the loop. For (2), @tf.function has experimental_relax_shapes=True option that relaxes argument shapes that can avoid unnecessary retracing. For (3), please refer to https://www.tensorflow.org/guide/function#controlling_retracing and https://www.tensorflow.org/api_docs/python/tf/function for  more details.\n",
            "[[206.79633]]\n"
          ],
          "name": "stdout"
        }
      ]
    },
    {
      "cell_type": "code",
      "metadata": {
        "id": "wrFHkn2cNQjE"
      },
      "source": [
        "# Multiple Parallel Series\n",
        "\n",
        "# An alternate time series problem is the case where there are multiple parallel time series and a value must be predicted for each.\n",
        "# For example, given the data from the previous section:\n",
        "# [[ 10  15  25]\n",
        "#  [ 20  25  45]\n",
        "#  [ 30  35  65]\n",
        "#  [ 40  45  85]\n",
        "#  [ 50  55 105]\n",
        "#  [ 60  65 125]\n",
        "#  [ 70  75 145]\n",
        "#  [ 80  85 165]\n",
        "#  [ 90  95 185]]\n",
        "\n",
        "# We may want to predict the value for each of the three time series for the next time step.\n",
        "# This might be referred to as multivariate forecasting.\n",
        "# Again, the data must be split into input/output samples in order to train a model.\n",
        "\n",
        "# The first sample of this dataset would be:\n",
        "# Input: \n",
        "# 10, 15, 25\n",
        "# 20, 25, 45\n",
        "# 30, 35, 65\n",
        "\n",
        "# Output: 40, 45, 85"
      ],
      "execution_count": 49,
      "outputs": []
    },
    {
      "cell_type": "code",
      "metadata": {
        "id": "RvPb3Q4sOlOG"
      },
      "source": [
        "# The split_sequences() function below will split multiple parallel time series with rows for time steps\n",
        "#  and one series per column into the required input/output shape.\n",
        "\n",
        "# split a multivariate sequence into samples\n",
        "def split_sequences(sequences, n_steps):\n",
        "\tX, y = list(), list()\n",
        "\tfor i in range(len(sequences)):\n",
        "     \n",
        "\t\t# find the end of this pattern\n",
        "\t\tend_ix = i + n_steps\n",
        "\n",
        "\t\t# check if we are beyond the dataset\n",
        "\t\tif end_ix > len(sequences)-1:\n",
        "\t\t\tbreak\n",
        "\n",
        "\t\t# gather input and output parts of the pattern\n",
        "\t\tseq_x, seq_y = sequences[i:end_ix, :], sequences[end_ix, :]\n",
        "\n",
        "\t\tX.append(seq_x)\n",
        "\t\ty.append(seq_y)\n",
        "  \n",
        "\treturn array(X), array(y)"
      ],
      "execution_count": 50,
      "outputs": []
    },
    {
      "cell_type": "code",
      "metadata": {
        "colab": {
          "base_uri": "https://localhost:8080/"
        },
        "id": "1KlInT-nO7y2",
        "outputId": "e738928c-b1af-44cf-9b2e-827f2f8e2c23"
      },
      "source": [
        "# choose a number of time steps\n",
        "n_steps = 3\n",
        "\n",
        "# convert into input/output\n",
        "X, y = split_sequences(dataset, n_steps)\n",
        "print(X.shape, y.shape)\n",
        "\n",
        "# summarize the data\n",
        "for i in range(len(X)):\n",
        "\tprint(X[i], y[i], end=\"\\n\\n\")"
      ],
      "execution_count": 52,
      "outputs": [
        {
          "output_type": "stream",
          "text": [
            "(6, 3, 3) (6, 3)\n",
            "[[10 15 25]\n",
            " [20 25 45]\n",
            " [30 35 65]] [40 45 85]\n",
            "\n",
            "[[20 25 45]\n",
            " [30 35 65]\n",
            " [40 45 85]] [ 50  55 105]\n",
            "\n",
            "[[ 30  35  65]\n",
            " [ 40  45  85]\n",
            " [ 50  55 105]] [ 60  65 125]\n",
            "\n",
            "[[ 40  45  85]\n",
            " [ 50  55 105]\n",
            " [ 60  65 125]] [ 70  75 145]\n",
            "\n",
            "[[ 50  55 105]\n",
            " [ 60  65 125]\n",
            " [ 70  75 145]] [ 80  85 165]\n",
            "\n",
            "[[ 60  65 125]\n",
            " [ 70  75 145]\n",
            " [ 80  85 165]] [ 90  95 185]\n",
            "\n"
          ],
          "name": "stdout"
        }
      ]
    },
    {
      "cell_type": "code",
      "metadata": {
        "id": "WLAfwaCyPL06"
      },
      "source": [
        "# The shape of X is three-dimensional, including the number of samples (6), the number of time steps chosen per sample (3), \n",
        "# and the number of parallel time series or features (3).\n",
        "\n",
        "# The shape of y is two-dimensional as we might expect for the number of samples (6) and the number of time variables \n",
        "# per sample to be predicted (3).\n",
        "\n",
        "# The data is ready to use in an LSTM model that expects three-dimensional input and two-dimensional output shapes \n",
        "# for the X and y components of each sample.\n",
        "\n",
        "# We are now ready to fit an LSTM model on this data.\n",
        "# Any of the varieties of LSTMs in the previous section can be used, such as a Vanilla, Stacked, Bidirectional, CNN.\n",
        "# We will use a Stacked LSTM where the number of time steps and parallel series (features) are specified \n",
        "# for the input layer via the input_shape argument. The number of parallel series is also used in the specification \n",
        "# of the number of values to predict by the model in the output layer; again, this is three."
      ],
      "execution_count": 53,
      "outputs": []
    },
    {
      "cell_type": "code",
      "metadata": {
        "id": "BmnYlkdUQkB-"
      },
      "source": [
        "n_features = X.shape[2]\n",
        "\n",
        "# define model\n",
        "model1 = Sequential()\n",
        "model1.add(LSTM(100, activation='relu', return_sequences=True, input_shape=(n_steps, n_features)))\n",
        "model1.add(LSTM(100, activation='relu'))\n",
        "# using the number of paralle series as number of output units\n",
        "model1.add(Dense(n_features))\n",
        "\n",
        "model1.compile(optimizer='adam', loss='mse')"
      ],
      "execution_count": 61,
      "outputs": []
    },
    {
      "cell_type": "code",
      "metadata": {
        "colab": {
          "base_uri": "https://localhost:8080/",
          "height": 422
        },
        "id": "6daOABuPRiev",
        "outputId": "a779d84b-d738-4d30-d5bc-7b9f158c6e57"
      },
      "source": [
        "# plot model architecture\n",
        "plot_model(model1, show_shapes=True, to_file='stacked_lstm1.png')"
      ],
      "execution_count": 62,
      "outputs": [
        {
          "output_type": "execute_result",
          "data": {
            "image/png": "[encoded data removed]",
            "text/plain": [
              "<IPython.core.display.Image object>"
            ]
          },
          "metadata": {
            "tags": []
          },
          "execution_count": 62
        }
      ]
    },
    {
      "cell_type": "code",
      "metadata": {
        "colab": {
          "base_uri": "https://localhost:8080/"
        },
        "id": "fvW-Fql-Qm-a",
        "outputId": "9c3c0865-50f1-4c9f-fa6b-c45bf69d377c"
      },
      "source": [
        "# fit model\n",
        "model1.fit(X, y, epochs=200, verbose=0)"
      ],
      "execution_count": 63,
      "outputs": [
        {
          "output_type": "execute_result",
          "data": {
            "text/plain": [
              "<tensorflow.python.keras.callbacks.History at 0x7fa66f16a7d0>"
            ]
          },
          "metadata": {
            "tags": []
          },
          "execution_count": 63
        }
      ]
    },
    {
      "cell_type": "code",
      "metadata": {
        "colab": {
          "base_uri": "https://localhost:8080/"
        },
        "id": "kJD1S5YOQsr2",
        "outputId": "8ab31ccc-a63d-4f92-a3f4-ac5f5472b528"
      },
      "source": [
        "# demonstrate prediction\n",
        "x_input = array([[70,75,145], [80,85,165], [90,95,185]])\n",
        "x_input = x_input.reshape((1, n_steps, n_features))\n",
        "\n",
        "yhat = model1.predict(x_input, verbose=0)\n",
        "print(yhat)"
      ],
      "execution_count": 64,
      "outputs": [
        {
          "output_type": "stream",
          "text": [
            "WARNING:tensorflow:6 out of the last 6 calls to <function Model.make_predict_function.<locals>.predict_function at 0x7fa66ec83290> triggered tf.function retracing. Tracing is expensive and the excessive number of tracings could be due to (1) creating @tf.function repeatedly in a loop, (2) passing tensors with different shapes, (3) passing Python objects instead of tensors. For (1), please define your @tf.function outside of the loop. For (2), @tf.function has experimental_relax_shapes=True option that relaxes argument shapes that can avoid unnecessary retracing. For (3), please refer to https://www.tensorflow.org/guide/function#controlling_retracing and https://www.tensorflow.org/api_docs/python/tf/function for  more details.\n",
            "[[100.924286 105.925575 206.47696 ]]\n"
          ],
          "name": "stdout"
        }
      ]
    },
    {
      "cell_type": "markdown",
      "metadata": {
        "id": "0-viMxnDS2fP"
      },
      "source": [
        "<h1>Multi-Step LSTM Models</h1>"
      ]
    },
    {
      "cell_type": "code",
      "metadata": {
        "id": "sNgBEWFIR6yF"
      },
      "source": [
        "# A time series forecasting problem that requires a prediction of multiple time steps into the future can be referred to \n",
        "# as multi-step time series forecasting.\n",
        "\n",
        "# There are two main types of LSTM models that can be used for multi-step forecasting; they are:\n",
        "\n",
        "# Vector Output Model\n",
        "# Encoder-Decoder Model\n",
        "\n",
        "# Before we look at these models, let’s first look at the preparation of data for multi-step forecasting."
      ],
      "execution_count": 65,
      "outputs": []
    },
    {
      "cell_type": "code",
      "metadata": {
        "id": "GtJ44AlbT6zU"
      },
      "source": [
        "# Data Preparation\n",
        "\n",
        "# As with one-step forecasting, a time series used for multi-step time series forecasting must be split into samples \n",
        "# with input and output components.\n",
        "# Both the input and output components will be comprised of multiple time steps and may or may not have the same number of steps.\n",
        "\n",
        "# For example, given the univariate time series:\n",
        "# [10, 20, 30, 40, 50, 60, 70, 80, 90]\n",
        "\n",
        "# We could use the last three time steps as input and forecast the next two time steps.\n",
        "\n",
        "# The first sample would look as follows:\n",
        "# Input: [10, 20, 30]\n",
        "# Output: [40, 50]"
      ],
      "execution_count": 66,
      "outputs": []
    },
    {
      "cell_type": "code",
      "metadata": {
        "id": "1nstsFMRVEgU"
      },
      "source": [
        "# The split_sequence() function below implements this behavior and will split a given UNIVARIATE time series \n",
        "# into samples with a specified number of input and output time steps.\n",
        "\n",
        "# split a univariate sequence into samples\n",
        "def split_sequence(sequence, n_steps_in, n_steps_out):\n",
        "\tX, y = list(), list()\n",
        " \n",
        "\tfor i in range(len(sequence)):\n",
        "     \n",
        "\t\t# find the end of this pattern\n",
        "\t\tend_ix = i + n_steps_in\n",
        "\t\tout_end_ix = end_ix + n_steps_out\n",
        "\n",
        "\t\t# check if we are beyond the sequence\n",
        "\t\tif out_end_ix > len(sequence):\n",
        "\t\t\tbreak\n",
        "\n",
        "\t\t# gather input and output parts of the pattern\n",
        "\t\tseq_x, seq_y = sequence[i:end_ix], sequence[end_ix:out_end_ix]\n",
        "\n",
        "\t\tX.append(seq_x)\n",
        "\t\ty.append(seq_y)\n",
        "  \n",
        "\treturn array(X), array(y)"
      ],
      "execution_count": 67,
      "outputs": []
    },
    {
      "cell_type": "code",
      "metadata": {
        "colab": {
          "base_uri": "https://localhost:8080/"
        },
        "id": "xYEqENiPV6M4",
        "outputId": "7f623567-46e3-41d3-93db-3924315145dd"
      },
      "source": [
        "# define input sequence\n",
        "raw_seq = [10, 20, 30, 40, 50, 60, 70, 80, 90]\n",
        "\n",
        "# choose a number of time steps\n",
        "n_steps_in, n_steps_out = 3, 2\n",
        "\n",
        "# split into samples\n",
        "X, y = split_sequence(raw_seq, n_steps_in, n_steps_out)\n",
        "\n",
        "# summarize the data\n",
        "for i in range(len(X)):\n",
        "\tprint(X[i], y[i])"
      ],
      "execution_count": 68,
      "outputs": [
        {
          "output_type": "stream",
          "text": [
            "[10 20 30] [40 50]\n",
            "[20 30 40] [50 60]\n",
            "[30 40 50] [60 70]\n",
            "[40 50 60] [70 80]\n",
            "[50 60 70] [80 90]\n"
          ],
          "name": "stdout"
        }
      ]
    },
    {
      "cell_type": "code",
      "metadata": {
        "id": "bvkKqVIrWJKJ"
      },
      "source": [
        "# Now that we know how to prepare data for multi-step forecasting, let’s look at some LSTM models that can learn this mapping."
      ],
      "execution_count": 69,
      "outputs": []
    },
    {
      "cell_type": "code",
      "metadata": {
        "id": "f5-aheSLWW-1"
      },
      "source": [
        "# Vector Output Model\n",
        "\n",
        "# Like other types of neural network models, the LSTM can output a vector directly that can be interpreted as a multi-step forecast.\n",
        "# This approach was seen in the previous section where one time step of each output time series was forecasted as a vector.\n",
        "\n",
        "# As with the LSTMs for univariate data in a prior section, the prepared samples must first be reshaped. \n",
        "# The LSTM expects data to have a three-dimensional structure of [samples, timesteps, features], and in this case, \n",
        "# we only have one feature so the reshape is straightforward."
      ],
      "execution_count": 70,
      "outputs": []
    },
    {
      "cell_type": "code",
      "metadata": {
        "id": "fStrbICYXtdP"
      },
      "source": [
        "# reshape from [samples, timesteps] into [samples, timesteps, features]\n",
        "n_features = 1\n",
        "X = X.reshape((X.shape[0], X.shape[1], n_features))"
      ],
      "execution_count": 71,
      "outputs": []
    },
    {
      "cell_type": "code",
      "metadata": {
        "id": "kVFAvGXbXwkU"
      },
      "source": [
        "# With the number of input and output steps specified in the n_steps_in and n_steps_out variables, \n",
        "# we can define a multi-step time-series forecasting model.\n",
        "\n",
        "# Any of the presented LSTM model types could be used, such as Vanilla, Stacked, Bidirectional, CNN-LSTM, or ConvLSTM. \n",
        "# Below defines a Stacked LSTM for multi-step forecasting.\n",
        "\n",
        "# define model\n",
        "model = Sequential()\n",
        "model.add(LSTM(100, activation='relu', return_sequences=True, input_shape=(n_steps_in, n_features)))\n",
        "model.add(LSTM(100, activation='relu'))\n",
        "model.add(Dense(n_steps_out))\n",
        "\n",
        "model.compile(optimizer='adam', loss='mse')"
      ],
      "execution_count": 72,
      "outputs": []
    },
    {
      "cell_type": "code",
      "metadata": {
        "colab": {
          "base_uri": "https://localhost:8080/"
        },
        "id": "uqLLEJhhYM02",
        "outputId": "03ab8ced-8d66-4d0f-d8b7-a9c04f874bd3"
      },
      "source": [
        "# fit model\n",
        "model.fit(X, y, epochs=50, verbose=0)"
      ],
      "execution_count": 73,
      "outputs": [
        {
          "output_type": "execute_result",
          "data": {
            "text/plain": [
              "<tensorflow.python.keras.callbacks.History at 0x7fa66d34d150>"
            ]
          },
          "metadata": {
            "tags": []
          },
          "execution_count": 73
        }
      ]
    },
    {
      "cell_type": "code",
      "metadata": {
        "colab": {
          "base_uri": "https://localhost:8080/"
        },
        "id": "BK8eSQZDYTt2",
        "outputId": "d8be1c31-d8bf-4ae3-e2c2-a87d7b060d86"
      },
      "source": [
        "# demonstrate prediction\n",
        "x_input = array([70, 80, 90])\n",
        "x_input = x_input.reshape((1, n_steps_in, n_features))\n",
        "\n",
        "yhat = model.predict(x_input, verbose=0)\n",
        "print(yhat)"
      ],
      "execution_count": 74,
      "outputs": [
        {
          "output_type": "stream",
          "text": [
            "WARNING:tensorflow:7 out of the last 7 calls to <function Model.make_predict_function.<locals>.predict_function at 0x7fa66cdd9290> triggered tf.function retracing. Tracing is expensive and the excessive number of tracings could be due to (1) creating @tf.function repeatedly in a loop, (2) passing tensors with different shapes, (3) passing Python objects instead of tensors. For (1), please define your @tf.function outside of the loop. For (2), @tf.function has experimental_relax_shapes=True option that relaxes argument shapes that can avoid unnecessary retracing. For (3), please refer to https://www.tensorflow.org/guide/function#controlling_retracing and https://www.tensorflow.org/api_docs/python/tf/function for  more details.\n",
            "[[119.15367 137.62825]]\n"
          ],
          "name": "stdout"
        }
      ]
    },
    {
      "cell_type": "code",
      "metadata": {
        "id": "K4gStlJjYb-0"
      },
      "source": [
        "# Encoder-Decoder Model\n",
        "\n",
        "# A model specifically developed for forecasting variable length output sequences is called the Encoder-Decoder LSTM.\n",
        "\n",
        "# The model was designed for prediction problems where there are both input and output sequences, so-called \n",
        "# sequence-to-sequence, or seq2seq problems, such as translating text from one language to another.\n",
        "\n",
        "# This model can be used for multi-step time series forecasting.\n",
        "\n",
        "# As its name suggests, the model is comprised of two sub-models: the encoder and the decoder.\n",
        "\n",
        "# The encoder is a model responsible for reading and interpreting the input sequence. \n",
        "# The output of the encoder is a fixed length vector that represents the model’s interpretation of the sequence.\n",
        "#  The encoder is traditionally a Vanilla LSTM model, although other encoder models can be used such as Stacked, Bidirectional, \n",
        "# and CNN model\n",
        "# model.add(LSTM(100, activation='relu', input_shape=(n_steps_in, n_features)))\n",
        "\n",
        "# The decoder uses the output of the encoder as an input.\n",
        "# First, the fixed-length output of the encoder is repeated, once for each required time step in the output sequence.\n",
        "# model.add(RepeatVector(n_steps_out))\n",
        "\n",
        "# This sequence is then provided to an LSTM decoder model. The model must output a value for each timestep \n",
        "# in the decoder, which can be interpreted by a single output model.\n",
        "# model.add(LSTM(100, activation='relu', return_sequences=True))\n",
        "\n",
        "# We can use the same output layer or layers to make each one-step prediction in the output sequence. \n",
        "# This can be achieved by wrapping the output part of the model in a TimeDistributed wrapper.\n",
        "# model.add(TimeDistributed(Dense(1)))"
      ],
      "execution_count": 75,
      "outputs": []
    },
    {
      "cell_type": "code",
      "metadata": {
        "id": "v8i_l806anJU"
      },
      "source": [
        "from tensorflow.keras.layers import RepeatVector\n"
      ],
      "execution_count": 77,
      "outputs": []
    },
    {
      "cell_type": "code",
      "metadata": {
        "id": "M5pvprqhaXrE"
      },
      "source": [
        "# define model\n",
        "model = Sequential()\n",
        "\n",
        "model.add(LSTM(100, activation='relu', input_shape=(n_steps_in, n_features)))\n",
        "model.add(RepeatVector(n_steps_out))\n",
        "\n",
        "model.add(LSTM(100, activation='relu', return_sequences=True))\n",
        "model.add(TimeDistributed(Dense(1)))\n",
        "\n",
        "model.compile(optimizer='adam', loss='mse')"
      ],
      "execution_count": 78,
      "outputs": []
    },
    {
      "cell_type": "code",
      "metadata": {
        "colab": {
          "base_uri": "https://localhost:8080/",
          "height": 533
        },
        "id": "yDVBr3agajSR",
        "outputId": "569eaf7b-9eef-4515-cb8e-afa644d6e95a"
      },
      "source": [
        "plot_model(model, show_shapes=True, to_file='encoder-decoder.png')"
      ],
      "execution_count": 80,
      "outputs": [
        {
          "output_type": "execute_result",
          "data": {
            "image/png": "[encoded data removed]",
            "text/plain": [
              "<IPython.core.display.Image object>"
            ]
          },
          "metadata": {
            "tags": []
          },
          "execution_count": 80
        }
      ]
    },
    {
      "cell_type": "code",
      "metadata": {
        "colab": {
          "base_uri": "https://localhost:8080/"
        },
        "id": "yQH0kzsYawIA",
        "outputId": "8b38f7e9-940d-4711-a2b8-dfb0e42de6d0"
      },
      "source": [
        "# fit model\n",
        "model.fit(X, y, epochs=100, verbose=0)"
      ],
      "execution_count": 81,
      "outputs": [
        {
          "output_type": "execute_result",
          "data": {
            "text/plain": [
              "<tensorflow.python.keras.callbacks.History at 0x7fa66bc36f50>"
            ]
          },
          "metadata": {
            "tags": []
          },
          "execution_count": 81
        }
      ]
    },
    {
      "cell_type": "code",
      "metadata": {
        "colab": {
          "base_uri": "https://localhost:8080/"
        },
        "id": "RLIzWeMIbTcy",
        "outputId": "97e50037-662b-4b8a-d41d-4765c7387eaa"
      },
      "source": [
        "# demonstrate prediction\n",
        "x_input = array([70, 80, 90])\n",
        "x_input = x_input.reshape((1, n_steps_in, n_features))\n",
        "\n",
        "yhat = model.predict(x_input, verbose=0)\n",
        "print(yhat)"
      ],
      "execution_count": 82,
      "outputs": [
        {
          "output_type": "stream",
          "text": [
            "WARNING:tensorflow:8 out of the last 8 calls to <function Model.make_predict_function.<locals>.predict_function at 0x7fa68f4c73b0> triggered tf.function retracing. Tracing is expensive and the excessive number of tracings could be due to (1) creating @tf.function repeatedly in a loop, (2) passing tensors with different shapes, (3) passing Python objects instead of tensors. For (1), please define your @tf.function outside of the loop. For (2), @tf.function has experimental_relax_shapes=True option that relaxes argument shapes that can avoid unnecessary retracing. For (3), please refer to https://www.tensorflow.org/guide/function#controlling_retracing and https://www.tensorflow.org/api_docs/python/tf/function for  more details.\n",
            "[[[101.607285]\n",
            "  [113.12295 ]]]\n"
          ],
          "name": "stdout"
        }
      ]
    },
    {
      "cell_type": "code",
      "metadata": {
        "id": "0oK3-Vu_bYcE"
      },
      "source": [
        ""
      ],
      "execution_count": null,
      "outputs": []
    }
  ]
}