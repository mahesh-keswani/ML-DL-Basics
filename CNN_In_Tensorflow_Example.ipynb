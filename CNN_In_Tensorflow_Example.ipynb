{
  "nbformat": 4,
  "nbformat_minor": 0,
  "metadata": {
    "colab": {
      "name": "CNN_In_Tensorflow_Example.ipynb",
      "provenance": [],
      "authorship_tag": "ABX9TyPIhFKi7SfextWnNdltGhR+",
      "include_colab_link": true
    },
    "kernelspec": {
      "name": "python3",
      "display_name": "Python 3"
    }
  },
  "cells": [
    {
      "cell_type": "markdown",
      "metadata": {
        "id": "view-in-github",
        "colab_type": "text"
      },
      "source": [
        "<a href=\"https://colab.research.google.com/github/mahesh-keswani/ML-DL-Basics/blob/main/CNN_In_Tensorflow_Example.ipynb\" target=\"_parent\"><img src=\"https://colab.research.google.com/assets/colab-badge.svg\" alt=\"Open In Colab\"/></a>"
      ]
    },
    {
      "cell_type": "code",
      "metadata": {
        "colab": {
          "base_uri": "https://localhost:8080/"
        },
        "id": "ojN2EP7G6TYb",
        "outputId": "6afbb528-315b-483b-fa56-7a0202be979f"
      },
      "source": [
        "import tensorflow as tf\r\n",
        "from tensorflow.keras.datasets import mnist\r\n",
        "\r\n",
        "#download mnist data and split into train and test sets\r\n",
        "(X_train, y_train), (X_test, y_test) = mnist.load_data()"
      ],
      "execution_count": 1,
      "outputs": [
        {
          "output_type": "stream",
          "text": [
            "Downloading data from https://storage.googleapis.com/tensorflow/tf-keras-datasets/mnist.npz\n",
            "11493376/11490434 [==============================] - 0s 0us/step\n"
          ],
          "name": "stdout"
        }
      ]
    },
    {
      "cell_type": "code",
      "metadata": {
        "colab": {
          "base_uri": "https://localhost:8080/"
        },
        "id": "BplPpApd7C20",
        "outputId": "ba79d152-9235-4243-f17a-b786404492b8"
      },
      "source": [
        "# 60000 images, each image of shape 28x28 ( black and white ), y_train contains label for each image\r\n",
        "print(X_train.shape, y_train.shape)"
      ],
      "execution_count": 2,
      "outputs": [
        {
          "output_type": "stream",
          "text": [
            "(60000, 28, 28) (60000,)\n"
          ],
          "name": "stdout"
        }
      ]
    },
    {
      "cell_type": "code",
      "metadata": {
        "colab": {
          "base_uri": "https://localhost:8080/",
          "height": 282
        },
        "id": "P5JIz_ia6vpf",
        "outputId": "800a6ca3-b725-4523-a45e-2749154fea86"
      },
      "source": [
        "# Now let’s take a look at one of the images in our dataset to see what we are working with.\r\n",
        "#  We will plot the first image in our dataset\r\n",
        "\r\n",
        "import matplotlib.pyplot as plt\r\n",
        "#plot the first image in the dataset\r\n",
        "plt.imshow(X_train[0], cmap = 'gray')"
      ],
      "execution_count": 4,
      "outputs": [
        {
          "output_type": "execute_result",
          "data": {
            "text/plain": [
              "<matplotlib.image.AxesImage at 0x7ff1d7505550>"
            ]
          },
          "metadata": {
            "tags": []
          },
          "execution_count": 4
        },
        {
          "output_type": "display_data",
          "data": {
            "image/png": "[encoded data removed]",
            "text/plain": [
              "<Figure size 432x288 with 1 Axes>"
            ]
          },
          "metadata": {
            "tags": [],
            "needs_background": "light"
          }
        }
      ]
    },
    {
      "cell_type": "code",
      "metadata": {
        "colab": {
          "base_uri": "https://localhost:8080/",
          "height": 69
        },
        "id": "sCXK1LqE7VhW",
        "outputId": "411162e7-6e8a-48c4-9337-48ba823aa20c"
      },
      "source": [
        "'''\r\n",
        "    Next, we need to reshape our dataset inputs (X_train and X_test) to the shape that our model expects when we train the model. \r\n",
        "    The first number is the number of images (60,000 for X_train and 10,000 for X_test). Then comes the shape of each image (28x28). \r\n",
        "    The last number is 1, which signifies that the images are greyscale.\r\n",
        "'''"
      ],
      "execution_count": 5,
      "outputs": [
        {
          "output_type": "execute_result",
          "data": {
            "application/vnd.google.colaboratory.intrinsic+json": {
              "type": "string"
            },
            "text/plain": [
              "'\\n    Next, we need to reshape our dataset inputs (X_train and X_test) to the shape that our model expects when we train the model. \\n    The first number is the number of images (60,000 for X_train and 10,000 for X_test). Then comes the shape of each image (28x28). \\n    The last number is 1, which signifies that the images are greyscale.\\n'"
            ]
          },
          "metadata": {
            "tags": []
          },
          "execution_count": 5
        }
      ]
    },
    {
      "cell_type": "code",
      "metadata": {
        "id": "LnLGlfom7xDs"
      },
      "source": [
        "#reshape data to fit model\r\n",
        "X_train = X_train.reshape(60000, 28, 28, 1)\r\n",
        "X_test = X_test.reshape(10000, 28, 28, 1)"
      ],
      "execution_count": 6,
      "outputs": []
    },
    {
      "cell_type": "code",
      "metadata": {
        "colab": {
          "base_uri": "https://localhost:8080/"
        },
        "id": "XzKWpZhG77nk",
        "outputId": "126af88a-1563-453f-fbd3-4b553e29474e"
      },
      "source": [
        "# Now We need to one-hot-encode our target variable. \r\n",
        "from tensorflow.keras.utils import to_categorical\r\n",
        "\r\n",
        "#one-hot encode target column\r\n",
        "y_train = to_categorical(y_train)\r\n",
        "y_test = to_categorical(y_test)\r\n",
        "y_train[0] # should return hot for 5th index and 0 for others"
      ],
      "execution_count": 8,
      "outputs": [
        {
          "output_type": "execute_result",
          "data": {
            "text/plain": [
              "array([0., 0., 0., 0., 0., 1., 0., 0., 0., 0.], dtype=float32)"
            ]
          },
          "metadata": {
            "tags": []
          },
          "execution_count": 8
        }
      ]
    },
    {
      "cell_type": "code",
      "metadata": {
        "id": "IZ8eSDpV8PY7"
      },
      "source": [
        "from tensorflow.keras.models import Sequential\r\n",
        "from tensorflow.keras.layers import Dense, Conv2D, Flatten\r\n",
        "\r\n",
        "#create model\r\n",
        "model = Sequential()\r\n",
        "\r\n",
        "#add model layers\r\n",
        "# strides (1, 1) means 1 step in x-direction and 1 step in y-direction\r\n",
        "# by default padding='valid' means no padding, if padding = 'same', then it results in same output shape\r\n",
        "model.add(Conv2D(64, strides = (1, 1), kernel_size=3, activation='relu', input_shape=(28, 28, 1)))\r\n",
        "model.add(Conv2D(32, kernel_size=3, activation='relu'))\r\n",
        "\r\n",
        "model.add(Flatten())\r\n",
        "model.add(Dense(10, activation='softmax'))"
      ],
      "execution_count": 9,
      "outputs": []
    },
    {
      "cell_type": "code",
      "metadata": {
        "colab": {
          "base_uri": "https://localhost:8080/"
        },
        "id": "dr7jzlhe8xrR",
        "outputId": "5e3c45db-a038-4224-f896-d2bfb39b003a"
      },
      "source": [
        "# output shape: ( (input_width - kernel_width + 2*padding) / stride ) + 1\r\n",
        "# same for height\r\n",
        "\r\n",
        "# For first conv layer: width: ((28 - 3 + 0) / 1) + 1 -> 26, height:  width: ((28 - 3 + 0) / 1) + 1 -> 26\r\n",
        "\r\n",
        "# Now calculating number of parameters in for first conv layer: we have 64 kernels each of shape (3, 3)\r\n",
        "# i.e for each kerenl we have 9 weights, therefore for 64 kernels we have 64*9 = 576 weights\r\n",
        "#  Also we have 64 biases, therefore total params in first conv layer = 576 + 64 = 640\r\n",
        "model.summary()"
      ],
      "execution_count": 10,
      "outputs": [
        {
          "output_type": "stream",
          "text": [
            "Model: \"sequential\"\n",
            "_________________________________________________________________\n",
            "Layer (type)                 Output Shape              Param #   \n",
            "=================================================================\n",
            "conv2d (Conv2D)              (None, 26, 26, 64)        640       \n",
            "_________________________________________________________________\n",
            "conv2d_1 (Conv2D)            (None, 24, 24, 32)        18464     \n",
            "_________________________________________________________________\n",
            "flatten (Flatten)            (None, 18432)             0         \n",
            "_________________________________________________________________\n",
            "dense (Dense)                (None, 10)                184330    \n",
            "=================================================================\n",
            "Total params: 203,434\n",
            "Trainable params: 203,434\n",
            "Non-trainable params: 0\n",
            "_________________________________________________________________\n"
          ],
          "name": "stdout"
        }
      ]
    },
    {
      "cell_type": "code",
      "metadata": {
        "id": "Hkev-W539ewE"
      },
      "source": [
        "#compile model using accuracy to measure model performance\r\n",
        "# Checkout the keras_examples folder for more metrics and losses\r\n",
        "model.compile(optimizer='adam', loss='categorical_crossentropy', metrics=['accuracy'])"
      ],
      "execution_count": 11,
      "outputs": []
    },
    {
      "cell_type": "code",
      "metadata": {
        "colab": {
          "base_uri": "https://localhost:8080/"
        },
        "id": "UDBD1D0AB-sv",
        "outputId": "db8b865f-f413-4890-c22c-c782541bfdf4"
      },
      "source": [
        "#train the model\r\n",
        "model.fit(X_train, y_train, validation_data=(X_test, y_test), epochs=5)"
      ],
      "execution_count": 12,
      "outputs": [
        {
          "output_type": "stream",
          "text": [
            "Epoch 1/5\n",
            "1875/1875 [==============================] - 162s 86ms/step - loss: 0.6552 - accuracy: 0.9155 - val_loss: 0.0712 - val_accuracy: 0.9778\n",
            "Epoch 2/5\n",
            "1875/1875 [==============================] - 161s 86ms/step - loss: 0.0561 - accuracy: 0.9825 - val_loss: 0.0714 - val_accuracy: 0.9775\n",
            "Epoch 3/5\n",
            "1875/1875 [==============================] - 161s 86ms/step - loss: 0.0359 - accuracy: 0.9889 - val_loss: 0.0805 - val_accuracy: 0.9761\n",
            "Epoch 4/5\n",
            "1875/1875 [==============================] - 161s 86ms/step - loss: 0.0286 - accuracy: 0.9909 - val_loss: 0.0875 - val_accuracy: 0.9764\n",
            "Epoch 5/5\n",
            "1875/1875 [==============================] - 161s 86ms/step - loss: 0.0217 - accuracy: 0.9932 - val_loss: 0.1050 - val_accuracy: 0.9779\n"
          ],
          "name": "stdout"
        },
        {
          "output_type": "execute_result",
          "data": {
            "text/plain": [
              "<tensorflow.python.keras.callbacks.History at 0x7ff1d1880908>"
            ]
          },
          "metadata": {
            "tags": []
          },
          "execution_count": 12
        }
      ]
    },
    {
      "cell_type": "code",
      "metadata": {
        "colab": {
          "base_uri": "https://localhost:8080/"
        },
        "id": "U5wykqvICDYu",
        "outputId": "ba11b53c-8669-41d2-a7e5-eca05ee6eec9"
      },
      "source": [
        "#predict first 4 images in the test set\r\n",
        "model.predict(X_test[:4])"
      ],
      "execution_count": 13,
      "outputs": [
        {
          "output_type": "execute_result",
          "data": {
            "text/plain": [
              "array([[5.12997873e-11, 1.87311824e-17, 5.92942673e-09, 5.84726090e-09,\n",
              "        6.80671468e-19, 3.91730268e-13, 4.14018346e-19, 1.00000000e+00,\n",
              "        1.21021491e-11, 5.68524228e-10],\n",
              "       [4.57671715e-13, 1.85170224e-09, 1.00000000e+00, 4.44451886e-17,\n",
              "        1.60776779e-21, 1.35836658e-21, 8.55839177e-10, 4.08257228e-22,\n",
              "        1.43869410e-14, 7.48035220e-22],\n",
              "       [6.14124529e-09, 9.99983907e-01, 1.16966658e-05, 1.56229261e-12,\n",
              "        1.46271009e-06, 2.62014077e-10, 2.46988918e-09, 1.48744277e-06,\n",
              "        1.54729480e-06, 3.98299145e-12],\n",
              "       [1.00000000e+00, 1.18045264e-14, 9.74849715e-11, 7.32475495e-13,\n",
              "        6.97803344e-17, 3.30704051e-13, 2.89965616e-08, 1.13978922e-13,\n",
              "        4.95961466e-11, 3.88042723e-12]], dtype=float32)"
            ]
          },
          "metadata": {
            "tags": []
          },
          "execution_count": 13
        }
      ]
    },
    {
      "cell_type": "code",
      "metadata": {
        "colab": {
          "base_uri": "https://localhost:8080/"
        },
        "id": "4RfLuk-gF4P6",
        "outputId": "750714ab-8813-4fdf-e545-b201287b8189"
      },
      "source": [
        "# now taking the argmax out of predictions\r\n",
        "tf.argmax( model.predict(X_test[:4]), axis = 1 )"
      ],
      "execution_count": 15,
      "outputs": [
        {
          "output_type": "execute_result",
          "data": {
            "text/plain": [
              "<tf.Tensor: shape=(4,), dtype=int64, numpy=array([7, 2, 1, 0])>"
            ]
          },
          "metadata": {
            "tags": []
          },
          "execution_count": 15
        }
      ]
    },
    {
      "cell_type": "code",
      "metadata": {
        "colab": {
          "base_uri": "https://localhost:8080/"
        },
        "id": "VWsD9RmlGOk3",
        "outputId": "89d379f8-b3d6-40a7-e378-803809568c52"
      },
      "source": [
        "tf.argmax( y_test[:4], axis = 1)"
      ],
      "execution_count": 17,
      "outputs": [
        {
          "output_type": "execute_result",
          "data": {
            "text/plain": [
              "<tf.Tensor: shape=(4,), dtype=int64, numpy=array([7, 2, 1, 0])>"
            ]
          },
          "metadata": {
            "tags": []
          },
          "execution_count": 17
        }
      ]
    },
    {
      "cell_type": "code",
      "metadata": {
        "id": "i1JY-QSBGXjR"
      },
      "source": [
        "# YaY!! we got the correct predictions"
      ],
      "execution_count": null,
      "outputs": []
    }
  ]
}