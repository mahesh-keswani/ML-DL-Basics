{
  "nbformat": 4,
  "nbformat_minor": 0,
  "metadata": {
    "colab": {
      "name": "Conv1D-example.ipynb",
      "provenance": [],
      "mount_file_id": "1o0iBQCjdDm_1c56XcADc5lvc4ccYMpsa",
      "authorship_tag": "ABX9TyP3ErfJFVSckBgsOfBnMh4E",
      "include_colab_link": true
    },
    "kernelspec": {
      "name": "python3",
      "display_name": "Python 3"
    },
    "language_info": {
      "name": "python"
    }
  },
  "cells": [
    {
      "cell_type": "markdown",
      "metadata": {
        "id": "view-in-github",
        "colab_type": "text"
      },
      "source": [
        "<a href=\"https://colab.research.google.com/github/mahesh-keswani/ML-DL-Basics/blob/main/Conv1D_example.ipynb\" target=\"_parent\"><img src=\"https://colab.research.google.com/assets/colab-badge.svg\" alt=\"Open In Colab\"/></a>"
      ]
    },
    {
      "cell_type": "code",
      "metadata": {
        "id": "Qq1M6i81bYJt"
      },
      "source": [
        "# Resource: https://machinelearningmastery.com/cnn-models-for-human-activity-recognition-time-series-classification/\n",
        "\n",
        "# Human Activity Recognition, or HAR for short, is the problem of predicting what a person is doing based on a trace of their \n",
        "# movement using sensors.\n",
        "\n",
        "# A standard human activity recognition dataset is the ‘Activity Recognition Using Smart Phones Dataset’ made available in 2012.\n",
        "# Dataset: https://archive.ics.uci.edu/ml/datasets/human+activity+recognition+using+smartphones\n",
        "\n",
        "# The data was collected from 30 subjects aged between 19 and 48 years old performing one of six standard activities \n",
        "# while wearing a waist-mounted smartphone that recorded the movement data. Video was recorded of each subject \n",
        "# performing the activities and the movement data was labeled manually from these videos.\n",
        "\n",
        "# The six activities performed were as follows:\n",
        "\n",
        "# Walking\n",
        "# Walking Upstairs\n",
        "# Walking Downstairs\n",
        "# Sitting\n",
        "# Standing\n",
        "# Laying\n",
        "\n",
        "# The movement data recorded was the x, y, and z,  accelerometer data (linear acceleration) and gyroscopic data (angular velocity) \n",
        "# from the smart phone, specifically a Samsung Galaxy S II. Observations were recorded at 50 Hz (i.e. 50 data points per second).\n",
        "#  Each subject performed the sequence of activities twice, once with the device on their left-hand-side and once with the device \n",
        "#  on their right-hand side.\n",
        "\n",
        "# The raw data is not available. Instead, a pre-processed version of the dataset was made available. The pre-processing steps included:\n",
        "\n",
        "# Pre-processing accelerometer and gyroscope using noise filters.\n",
        "# Splitting data into fixed windows of 2.56 seconds (128 data points) with 50% overlap.\n",
        "# Splitting of accelerometer data into gravitational (total) and body motion components.\n",
        "\n",
        "# Feature engineering was applied to the window data, and a copy of the data with these engineered features was made available.\n",
        "\n",
        "# A number of time and frequency features commonly used in the field of human activity recognition were extracted from each window. \n",
        "# The result was a 561 element vector of features.\n",
        "\n",
        "# The dataset was split into train (70%) and test (30%) sets based on data for subjects, e.g. 21 subjects for train and nine for test.\n",
        "\n",
        "# Experiment results with a support vector machine intended for use on a smartphone (e.g. fixed-point arithmetic) resulted \n",
        "# in a predictive accuracy of 89% on the test dataset, achieving similar results as an unmodified SVM implementation."
      ],
      "execution_count": 1,
      "outputs": []
    },
    {
      "cell_type": "markdown",
      "metadata": {
        "id": "GzECaWf9ephs"
      },
      "source": [
        "<h1>Develop 1D Convolutional Neural Network</h1>"
      ]
    },
    {
      "cell_type": "code",
      "metadata": {
        "id": "5jdIMTvlenYY"
      },
      "source": [
        "# Convolutional neural network models were developed for image classification problems, where the model learns an internal \n",
        "# representation of a two-dimensional input, in a process referred to as feature learning.\n",
        "\n",
        "# This same process can be harnessed on one-dimensional sequences of data, such as in the case of acceleration and \n",
        "# gyroscopic data for human activity recognition. The model learns to extract features from sequences of observations \n",
        "# and how to map the internal features to different activity types.\n",
        "\n",
        "# The benefit of using CNNs for sequence classification is that they can learn from the raw time series data directly, \n",
        "# and in turn do not require domain expertise to manually engineer input features. The model can learn an internal representation\n",
        "# of the time series data and ideally achieve comparable performance to models fit on a version of the dataset with engineered features.\n",
        "\n",
        "# There are three main signal types in the raw data: total acceleration, body acceleration, and body gyroscope. \n",
        "# Each has three axes of data. This means that there are a total of nine variables for each time step.\n",
        "\n",
        "# Further, each series of data has been partitioned into overlapping windows of 2.65 seconds of data, or 128 time steps.\n",
        "# These windows of data correspond to the windows of engineered features (rows) in the previous section.\n",
        "\n",
        "# This means that one row of data has (128 * 9), or 1,152, elements. This is a little less than double the size of the \n",
        "# 561 element vectors in the previous section and it is likely that there is some redundant data.\n",
        "\n",
        "# The signals are stored in the /Inertial Signals/ directory under the train and test subdirectories. \n",
        "# Each axis of each signal is stored in a separate file, meaning that each of the train and test datasets have nine input \n",
        "# files to load and one output file to load. We can batch the loading of these files into groups given the consistent\n",
        "#  directory structures and file naming conventions.\n",
        "\n",
        "# The input data is in CSV format where columns are separated by whitespace."
      ],
      "execution_count": 2,
      "outputs": []
    },
    {
      "cell_type": "code",
      "metadata": {
        "id": "27aNfY64hIhB"
      },
      "source": [
        "# load a single file as a numpy array\n",
        "def load_file(filepath):\n",
        "\tdataframe = read_csv(filepath, header=None, delim_whitespace=True)\n",
        "\treturn dataframe.values\n"
      ],
      "execution_count": 3,
      "outputs": []
    },
    {
      "cell_type": "code",
      "metadata": {
        "id": "s9aAuLlruBuT"
      },
      "source": [
        "from numpy import mean\n",
        "from numpy import std\n",
        "from numpy import dstack\n",
        "from pandas import read_csv\n",
        "from matplotlib import pyplot\n",
        "from tensorflow.keras.models import Sequential\n",
        "from tensorflow.keras.layers import Dense, Flatten, Dropout, Conv1D, MaxPool1D\n",
        "from tensorflow.keras.utils import to_categorical"
      ],
      "execution_count": 4,
      "outputs": []
    },
    {
      "cell_type": "code",
      "metadata": {
        "id": "WIUZC_Xphp2Z"
      },
      "source": [
        "# We can then load all data for a given group (train or test) into a single three-dimensional NumPy array, \n",
        "# where the dimensions of the array are [samples, time steps, features].\n",
        "\n",
        "# To make this clearer, there are 128 time steps and nine features, where the number of samples is the number of rows\n",
        "#  in any given raw signal data file.\n",
        "\n",
        "# The load_group() function below implements this behavior. The dstack() NumPy function allows us to stack each\n",
        "#  of the loaded 3D arrays into a single 3D array where the variables are separated on the third dimension (features).\n",
        "\n",
        "BASE_PATH = '/content/drive/MyDrive/HAR-Conv1d/UCI HAR Dataset/UCI HAR Dataset/'"
      ],
      "execution_count": 5,
      "outputs": []
    },
    {
      "cell_type": "code",
      "metadata": {
        "id": "JytW_edTvSJC"
      },
      "source": [
        "# load a list of files and return as a 3d numpy array\n",
        "def load_group(filenames, filepath):\n",
        "    loaded = list()\n",
        "    print(filepath)\n",
        "    \n",
        "    for name in filenames:\n",
        "\n",
        "        data = load_file(filepath + name)\n",
        "        print(data.shape)\n",
        "        \n",
        "        loaded.append(data)\n",
        "\n",
        "    # stack group so that features are the 3rd dimension\n",
        "    loaded = dstack(loaded)\n",
        "    return loaded"
      ],
      "execution_count": 6,
      "outputs": []
    },
    {
      "cell_type": "code",
      "metadata": {
        "id": "fYyrc3jvwQEa"
      },
      "source": [
        "#  load a dataset group, such as train or test\n",
        "def load_dataset_group(group):\n",
        "    filepath = BASE_PATH + group + '/Inertial Signals/'\n",
        "    \n",
        "    # load all 9 files as a single array\n",
        "    filenames = list()\n",
        "\n",
        "    # total acceleration\n",
        "    filenames += ['total_acc_x_'+group+'.txt', 'total_acc_y_'+group+'.txt', 'total_acc_z_'+group+'.txt']\n",
        "\n",
        "    # body acceleration\n",
        "    filenames += ['body_acc_x_'+group+'.txt', 'body_acc_y_'+group+'.txt', 'body_acc_z_'+group+'.txt']\n",
        "\n",
        "    # body gyroscope\n",
        "    filenames += ['body_gyro_x_'+group+'.txt', 'body_gyro_y_'+group+'.txt', 'body_gyro_z_'+group+'.txt']\n",
        "\n",
        "    # load input data\n",
        "    # For train, filepath will be \"\"\" BASE_PATH + train + '/Inertial Signals/' \"\"\"\n",
        "    X = load_group(filenames, filepath)\n",
        "\n",
        "    # load class output (as label file is y_train.txt or y_test.txt)\n",
        "    y = load_file(BASE_PATH + group + '/y_'+group+'.txt')\n",
        "\n",
        "    return X, y"
      ],
      "execution_count": 7,
      "outputs": []
    },
    {
      "cell_type": "code",
      "metadata": {
        "id": "4E9wVdNHwp-m"
      },
      "source": [
        "# load the dataset, returns train and test X and y elements\n",
        "def load_dataset():\n",
        "    # load all train\n",
        "    trainX, trainy = load_dataset_group('train')\n",
        "    print(trainX.shape, trainy.shape)\n",
        "\n",
        "    # load all test\n",
        "    testX, testy = load_dataset_group('test')\n",
        "    print(testX.shape, testy.shape)\n",
        "\n",
        "    # zero-offset class values\n",
        "    trainy = trainy - 1\n",
        "    testy = testy - 1\n",
        "\n",
        "    # one hot encode y\n",
        "    trainy = to_categorical(trainy)\n",
        "    testy = to_categorical(testy)\n",
        "\n",
        "    print(trainX.shape, trainy.shape, testX.shape, testy.shape)\n",
        "    return trainX, trainy, testX, testy"
      ],
      "execution_count": 8,
      "outputs": []
    },
    {
      "cell_type": "code",
      "metadata": {
        "id": "lJ90_1lWw9uE"
      },
      "source": [
        "# The model requires a three-dimensional input with [samples, time steps, features].\n",
        "# This is exactly how we have loaded the data.\n",
        "# It is common to define CNN layers in groups of two in order to give the model a good chance of \n",
        "# learning features from the input data. CNNs learn very quickly, \n",
        "# so the dropout layer is intended to help slow down the learning process and hopefully \n",
        "# result in a better final model\n",
        "\n",
        "# fit and evaluate a model\n",
        "def evaluate_model(trainX, trainy, testX, testy):\n",
        "    verbose, epochs, batch_size = 0, 10, 32\n",
        "    n_timesteps, n_features, n_outputs = trainX.shape[1], trainX.shape[2], trainy.shape[1]\n",
        "\n",
        "    model = Sequential()\n",
        "\n",
        "    model.add(Conv1D(filters=64, kernel_size=3, activation='relu', input_shape=(n_timesteps,n_features)))\n",
        "    model.add(Conv1D(filters=64, kernel_size=3, activation='relu'))\n",
        "    model.add(Dropout(0.5))\n",
        "    model.add(MaxPool1D(pool_size=2))\n",
        "\n",
        "    model.add(Flatten())\n",
        "    model.add(Dense(100, activation='relu'))\n",
        "    model.add(Dense(n_outputs, activation='softmax'))\n",
        "\n",
        "    model.compile(loss='categorical_crossentropy', optimizer='adam', metrics=['accuracy'])\n",
        "\n",
        "    # fit network\n",
        "    model.fit(trainX, trainy, epochs=epochs, batch_size=batch_size, verbose=verbose)\n",
        "\n",
        "    # evaluate model\n",
        "    _, accuracy = model.evaluate(testX, testy, batch_size=batch_size, verbose=0)\n",
        "\n",
        "    return accuracy"
      ],
      "execution_count": 9,
      "outputs": []
    },
    {
      "cell_type": "code",
      "metadata": {
        "id": "1DbSkphY2PoR"
      },
      "source": [
        "# summarize scores\n",
        "def summarize_results(scores):\n",
        "\tprint(scores)\n",
        "\tm, s = mean(scores), std(scores)\n",
        "\tprint('Accuracy: %.3f%% (+/-%.3f)' % (m, s))"
      ],
      "execution_count": 10,
      "outputs": []
    },
    {
      "cell_type": "code",
      "metadata": {
        "id": "lXCIARaP2gc6"
      },
      "source": [
        "# run an experiment\n",
        "def run_experiment(repeats=10):\n",
        "\t# load data\n",
        "    trainX, trainy, testX, testy = load_dataset()\n",
        "\n",
        "    # repeat experiment\n",
        "    scores = list()\n",
        "    for r in range(repeats):\n",
        "        score = evaluate_model(trainX, trainy, testX, testy)\n",
        "\n",
        "        score = score * 100.0\n",
        "\n",
        "        print('>#%d: %.3f' % (r+1, score))\n",
        "\n",
        "        scores.append(score)\n",
        "\t\n",
        "    # summarize results\n",
        "    summarize_results(scores)"
      ],
      "execution_count": 11,
      "outputs": []
    },
    {
      "cell_type": "code",
      "metadata": {
        "colab": {
          "base_uri": "https://localhost:8080/"
        },
        "id": "P76GLC2c24v2",
        "outputId": "00e9d62d-8ce2-4195-e5ca-421d79ecfb1a"
      },
      "source": [
        "# run the experiment\n",
        "run_experiment()"
      ],
      "execution_count": 12,
      "outputs": [
        {
          "output_type": "stream",
          "text": [
            "/content/drive/MyDrive/HAR-Conv1d/UCI HAR Dataset/UCI HAR Dataset/train/Inertial Signals/\n",
            "(7352, 128)\n",
            "(7352, 128)\n",
            "(7352, 128)\n",
            "(7352, 128)\n",
            "(7352, 128)\n",
            "(7352, 128)\n",
            "(7352, 128)\n",
            "(7352, 128)\n",
            "(7352, 128)\n",
            "(7352, 128, 9) (7352, 1)\n",
            "/content/drive/MyDrive/HAR-Conv1d/UCI HAR Dataset/UCI HAR Dataset/test/Inertial Signals/\n",
            "(2947, 128)\n",
            "(2947, 128)\n",
            "(2947, 128)\n",
            "(2947, 128)\n",
            "(2947, 128)\n",
            "(2947, 128)\n",
            "(2947, 128)\n",
            "(2947, 128)\n",
            "(2947, 128)\n",
            "(2947, 128, 9) (2947, 1)\n",
            "(7352, 128, 9) (7352, 6) (2947, 128, 9) (2947, 6)\n",
            ">#1: 90.872\n",
            ">#2: 91.958\n",
            ">#3: 91.890\n",
            ">#4: 89.888\n",
            ">#5: 92.467\n",
            ">#6: 91.042\n",
            ">#7: 89.922\n",
            ">#8: 92.060\n",
            ">#9: 89.481\n",
            ">#10: 92.297\n",
            "[90.87207317352295, 91.95792078971863, 91.89005494117737, 89.88802433013916, 92.46691465377808, 91.0417377948761, 89.92195725440979, 92.05971956253052, 89.4808292388916, 92.29725003242493]\n",
            "Accuracy: 91.188% (+/-1.051)\n"
          ],
          "name": "stdout"
        }
      ]
    },
    {
      "cell_type": "code",
      "metadata": {
        "id": "04a-0CCe3ZPl"
      },
      "source": [
        "# 9 because we have 9 feature 3 total accelration, 3 body acceleration and 3 gyroscope.\n",
        "# we have 7352 samples and each sample has 128 timesteps and each timestep has 9 features\n",
        "\n",
        "# Finally, the sample of scores is printed followed by the mean and standard deviation.\n",
        "#  We can see that the model performed well achieving a classification accuracy of about \n",
        "#  91.188% trained on the raw dataset, with a standard deviation of about 1.051.\n",
        "\n",
        "# This is a good result, considering that the original paper published a result of 89%, \n",
        "# trained on the dataset with heavy domain-specific feature engineering, not the raw dataset."
      ],
      "execution_count": 13,
      "outputs": []
    },
    {
      "cell_type": "code",
      "metadata": {
        "id": "OExPX_ym9K_N"
      },
      "source": [
        "# Each of the main sets of data (body acceleration, body gyroscopic, and total acceleration) \n",
        "# have been scaled to the range -1, 1. It is not clear if the data was scaled per-subject or \n",
        "# across all subjects.\n",
        "\n",
        "# One possible transform that may result in an improvement is to standardize the observations prior\n",
        "# to fitting a model.\n",
        "\n",
        "# Standardization refers to shifting the distribution of each variable such that it has a mean of\n",
        "# zero and a standard deviation of 1. It really only makes sense if the distribution of each \n",
        "# variable is Gaussian.\n",
        "\n",
        "# We can quickly check the distribution of each variable by plotting a histogram of each variable\n",
        "# in the training dataset.\n",
        "\n",
        "# A minor difficulty in this is that the data has been split into windows of 128 time steps,\n",
        "# with a 50% overlap. Therefore, in order to get a fair idea of the data distribution, \n",
        "# we must first remove the duplicated observations (the overlap), then remove the windowing of the data.\n",
        "\n",
        "# We can do this using NumPy, first slicing the array and only keeping the second half of \n",
        "# each window, then flattening the windows into a long vector for each variable.\n",
        "#  This is quick and dirty and does mean that we lose the data in the first half of the first window."
      ],
      "execution_count": 14,
      "outputs": []
    },
    {
      "cell_type": "code",
      "metadata": {
        "colab": {
          "base_uri": "https://localhost:8080/"
        },
        "id": "pV1BRkKQ9efe",
        "outputId": "3c9fef37-6718-4f43-b46c-b3ee85c65c55"
      },
      "source": [
        "trainX, trainy, testX, testy = load_dataset()\n",
        "\n",
        "# remove overlap ( 128 / 2 )\n",
        "cut = int(trainX.shape[1] / 2)\n",
        "\n",
        "# taking only second half of window \n",
        "longX = trainX[:, -cut:, :]\n",
        "\n",
        "# flatten windows\n",
        "longX = longX.reshape((longX.shape[0] * longX.shape[1], longX.shape[2]))\n",
        "print(longX.shape)"
      ],
      "execution_count": 16,
      "outputs": [
        {
          "output_type": "stream",
          "text": [
            "/content/drive/MyDrive/HAR-Conv1d/UCI HAR Dataset/UCI HAR Dataset/train/Inertial Signals/\n",
            "(7352, 128)\n",
            "(7352, 128)\n",
            "(7352, 128)\n",
            "(7352, 128)\n",
            "(7352, 128)\n",
            "(7352, 128)\n",
            "(7352, 128)\n",
            "(7352, 128)\n",
            "(7352, 128)\n",
            "(7352, 128, 9) (7352, 1)\n",
            "/content/drive/MyDrive/HAR-Conv1d/UCI HAR Dataset/UCI HAR Dataset/test/Inertial Signals/\n",
            "(2947, 128)\n",
            "(2947, 128)\n",
            "(2947, 128)\n",
            "(2947, 128)\n",
            "(2947, 128)\n",
            "(2947, 128)\n",
            "(2947, 128)\n",
            "(2947, 128)\n",
            "(2947, 128)\n",
            "(2947, 128, 9) (2947, 1)\n",
            "(7352, 128, 9) (7352, 6) (2947, 128, 9) (2947, 6)\n",
            "(470528, 9)\n"
          ],
          "name": "stdout"
        }
      ]
    },
    {
      "cell_type": "code",
      "metadata": {
        "colab": {
          "base_uri": "https://localhost:8080/",
          "height": 483
        },
        "id": "J-oFIYBh9q6z",
        "outputId": "5d3eba44-a648-491e-b48d-922e7ce01931"
      },
      "source": [
        "pyplot.figure(figsize=(14, 8))\n",
        "xaxis = None\n",
        "\n",
        "for i in range(longX.shape[1]):\n",
        "    ax = pyplot.subplot(longX.shape[1], 1, i+1, sharex=xaxis)\n",
        "    ax.set_xlim(-1, 1)\n",
        "    if i == 0:\n",
        "        xaxis = ax\n",
        "    pyplot.hist(longX[:, i], bins=100)\n",
        "\n",
        "pyplot.show()"
      ],
      "execution_count": 18,
      "outputs": [
        {
          "output_type": "display_data",
          "data": {
            "image/png": "[encoded data removed]",
            "text/plain": [
              "<Figure size 1008x576 with 9 Axes>"
            ]
          },
          "metadata": {
            "tags": [],
            "needs_background": "light"
          }
        }
      ]
    },
    {
      "cell_type": "code",
      "metadata": {
        "id": "vK23UCJF-5kE"
      },
      "source": [
        "# The data is sufficiently Gaussian-like to explore whether a standardization transform \n",
        "# will help the model extract salient signal from the raw observations.\n",
        "\n",
        "# try out fitting after the standardization with the same model and compare the results, but our\n",
        "# main aim was to understand how to develop Conv1D model.\n",
        "\n",
        "# Let's plot the model "
      ],
      "execution_count": 19,
      "outputs": []
    },
    {
      "cell_type": "code",
      "metadata": {
        "id": "OyF1s9tYGUN0"
      },
      "source": [
        "n_timesteps, n_features, n_outputs = trainX.shape[1], trainX.shape[2], trainy.shape[1]\n",
        "\n",
        "model = Sequential()\n",
        "\n",
        "model.add(Conv1D(filters=64, kernel_size=3, activation='relu', input_shape=(n_timesteps,n_features)))\n",
        "model.add(Conv1D(filters=64, kernel_size=3, activation='relu'))\n",
        "model.add(Dropout(0.5))\n",
        "model.add(MaxPool1D(pool_size=2))\n",
        "\n",
        "model.add(Flatten())\n",
        "model.add(Dense(100, activation='relu'))\n",
        "model.add(Dense(n_outputs, activation='softmax'))"
      ],
      "execution_count": 20,
      "outputs": []
    },
    {
      "cell_type": "code",
      "metadata": {
        "colab": {
          "base_uri": "https://localhost:8080/",
          "height": 865
        },
        "id": "dgiBEmPXF_bt",
        "outputId": "4c46150c-25f5-4395-95bd-ff541e4f84ac"
      },
      "source": [
        "from tensorflow.keras.utils import plot_model\n",
        "\n",
        "plot_model(model, show_shapes = True, to_file='Conv1D_example.png')"
      ],
      "execution_count": 23,
      "outputs": [
        {
          "output_type": "execute_result",
          "data": {
            "image/png": "[encoded data removed]",
            "text/plain": [
              "<IPython.core.display.Image object>"
            ]
          },
          "metadata": {
            "tags": []
          },
          "execution_count": 23
        }
      ]
    },
    {
      "cell_type": "code",
      "metadata": {
        "id": "xUR8PibNGfuT"
      },
      "source": [
        "# Conv1D shape = (None, 126, 64) because 64=number of filters, 126 because timesteps=128 and filter_size = 3\n",
        "# therefore output shape=128 - 3 + 1=126\n"
      ],
      "execution_count": null,
      "outputs": []
    }
  ]
}