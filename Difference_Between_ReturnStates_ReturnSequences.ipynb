{
  "nbformat": 4,
  "nbformat_minor": 0,
  "metadata": {
    "colab": {
      "name": "Difference_Between_ReturnStates_ReturnSequences.ipynb",
      "provenance": [],
      "authorship_tag": "ABX9TyPnX2xbi95u2bDZM+vUvFxl",
      "include_colab_link": true
    },
    "kernelspec": {
      "name": "python3",
      "display_name": "Python 3"
    },
    "language_info": {
      "name": "python"
    }
  },
  "cells": [
    {
      "cell_type": "markdown",
      "metadata": {
        "id": "view-in-github",
        "colab_type": "text"
      },
      "source": [
        "<a href=\"https://colab.research.google.com/github/mahesh-keswani/ML-DL-Basics/blob/main/Difference_Between_ReturnStates_ReturnSequences.ipynb\" target=\"_parent\"><img src=\"https://colab.research.google.com/assets/colab-badge.svg\" alt=\"Open In Colab\"/></a>"
      ]
    },
    {
      "cell_type": "code",
      "metadata": {
        "id": "TGgoXXA8KTqo"
      },
      "source": [
        "# Resource: https://machinelearningmastery.com/return-sequences-and-return-states-for-lstms-in-keras/"
      ],
      "execution_count": 1,
      "outputs": []
    },
    {
      "cell_type": "code",
      "metadata": {
        "id": "AZKOOgw8Ktjp"
      },
      "source": [
        "# The Keras deep learning library provides an implementation of the Long Short-Term Memory, or LSTM, recurrent neural network.\n",
        "\n",
        "# As part of this implementation, the Keras API provides access to both return sequences and return state. \n",
        "# The use and difference between these data can be confusing when designing sophisticated recurrent neural network models,\n",
        "#  such as the encoder-decoder model.\n",
        "\n",
        "# After completing this tutorial, you will know:\n",
        "\n",
        "# That return sequences return the hidden state output for EACH input time step.\n",
        "# That return state returns the hidden state output and cell state for the LAST input time step.\n",
        "# That return sequences and return state can be used at the same time."
      ],
      "execution_count": 2,
      "outputs": []
    },
    {
      "cell_type": "markdown",
      "metadata": {
        "id": "aMxngwbgL3Qd"
      },
      "source": [
        "<img src=\"https://i.stack.imgur.com/bVXaT.png\" />"
      ]
    },
    {
      "cell_type": "code",
      "metadata": {
        "id": "wwzbfsu4L16Y"
      },
      "source": [
        "# Each unit or cell within the layer has an internal cell state, often abbreviated as “c“, and outputs a hidden state,\n",
        "#  often abbreviated as “h“.\n",
        "\n",
        "# The Keras API allows you to access these data, which can be useful or even required when developing sophisticated \n",
        "# recurrent neural network architectures, such as the encoder-decoder model.\n",
        "\n",
        "# For the rest of this tutorial, we will look at the API for access these data."
      ],
      "execution_count": 3,
      "outputs": []
    },
    {
      "cell_type": "code",
      "metadata": {
        "colab": {
          "base_uri": "https://localhost:8080/"
        },
        "id": "KJiKK34oMgKR",
        "outputId": "2b0e1fc6-9bc2-48d0-9822-26b476b34503"
      },
      "source": [
        "# Return Sequences\n",
        "\n",
        "# Each LSTM cell will output one hidden state h for each input.\n",
        "# In this example, we will have one input sample with 3 time steps and one feature:\n",
        "\n",
        "from tensorflow.keras.models import Model\n",
        "from tensorflow.keras.layers import Input, LSTM\n",
        "from numpy import array\n",
        "\n",
        "# define model\n",
        "inputs1 = Input(shape=(3, 1))\n",
        "\n",
        "# number of units=1\n",
        "lstm1 = LSTM(1)(inputs1)\n",
        "\n",
        "model = Model(inputs=inputs1, outputs=lstm1)\n",
        "\n",
        "# define input data\n",
        "data = array([0.1, 0.2, 0.3]).reshape((1,3,1))\n",
        "\n",
        "# make and show prediction\n",
        "print(model.predict(data))"
      ],
      "execution_count": 4,
      "outputs": [
        {
          "output_type": "stream",
          "text": [
            "[[-0.07235589]]\n"
          ],
          "name": "stdout"
        }
      ]
    },
    {
      "cell_type": "code",
      "metadata": {
        "id": "CumQ7AKfNClz"
      },
      "source": [
        "# Running the example outputs a single hidden state for the single input sequence with 3 time steps"
      ],
      "execution_count": 5,
      "outputs": []
    },
    {
      "cell_type": "code",
      "metadata": {
        "colab": {
          "base_uri": "https://localhost:8080/"
        },
        "id": "_XU8lkAuNYuV",
        "outputId": "eaacf0a3-60f8-46c6-9e15-0a0811d34658"
      },
      "source": [
        "# It is possible to access the hidden state output for each input time step.\n",
        "# This can be done by setting the return_sequences attribute to True when defining the LSTM layer, as follows:\n",
        "\n",
        "# define model\n",
        "inputs1 = Input(shape=(3, 1))\n",
        "\n",
        "lstm1 = LSTM(1, return_sequences=True)(inputs1)\n",
        "\n",
        "model = Model(inputs=inputs1, outputs=lstm1)\n",
        "\n",
        "# define input data\n",
        "data = array([0.1, 0.2, 0.3]).reshape((1,3,1))\n",
        "\n",
        "# make and show prediction\n",
        "print(model.predict(data))"
      ],
      "execution_count": 6,
      "outputs": [
        {
          "output_type": "stream",
          "text": [
            "[[[0.00627518]\n",
            "  [0.01691228]\n",
            "  [0.03039883]]]\n"
          ],
          "name": "stdout"
        }
      ]
    },
    {
      "cell_type": "code",
      "metadata": {
        "id": "4R7XpjrvNyaJ"
      },
      "source": [
        "# Running the example returns a sequence of 3 values, one hidden state output for each sample time step for the \n",
        "# single LSTM cell in the layer."
      ],
      "execution_count": 7,
      "outputs": []
    },
    {
      "cell_type": "code",
      "metadata": {
        "colab": {
          "base_uri": "https://localhost:8080/"
        },
        "id": "pHqE1cPOOMoN",
        "outputId": "58d4901a-9186-41d8-a267-baa1e533ec96"
      },
      "source": [
        "# Return States\n",
        "\n",
        "# The output of an LSTM cell or layer of cells is called the hidden state.\n",
        "\n",
        "# This is confusing, because each LSTM cell retains an internal state that is not output, called the cell state, or c.\n",
        "\n",
        "# Generally, we do not need to access the cell state unless we are developing sophisticated models where \n",
        "# subsequent layers may need to have their cell state initialized with the final cell state of another layer, \n",
        "# such as in an encoder-decoder model.\n",
        "\n",
        "# Keras provides the return_state argument to the LSTM layer that will provide access to the hidden state output (state_h) \n",
        "# and the cell state (state_c). For example:\n",
        "\n",
        "# define model\n",
        "inputs1 = Input(shape=(3, 1))\n",
        "\n",
        "lstm1, state_h, state_c = LSTM(1, return_state=True)(inputs1)\n",
        "\n",
        "model = Model(inputs=inputs1, outputs=[lstm1, state_h, state_c])\n",
        "\n",
        "# define input data\n",
        "data = array([0.1, 0.2, 0.3]).reshape((1,3,1))\n",
        "\n",
        "# make and show prediction\n",
        "print(model.predict(data))"
      ],
      "execution_count": 8,
      "outputs": [
        {
          "output_type": "stream",
          "text": [
            "[array([[0.0659593]], dtype=float32), array([[0.0659593]], dtype=float32), array([[0.15195765]], dtype=float32)]\n"
          ],
          "name": "stdout"
        }
      ]
    },
    {
      "cell_type": "code",
      "metadata": {
        "id": "mvmhiz4wP_di"
      },
      "source": [
        "# Running the example returns 3 arrays:\n",
        "\n",
        "# The LSTM hidden state output for the last time step.\n",
        "# The LSTM hidden state output for the last time step (again).\n",
        "# The LSTM cell state for the last time step."
      ],
      "execution_count": 9,
      "outputs": []
    },
    {
      "cell_type": "code",
      "metadata": {
        "colab": {
          "base_uri": "https://localhost:8080/"
        },
        "id": "ju6XFEHRQZrD",
        "outputId": "0de26d99-6b1d-459d-e8d2-4d2234650bc0"
      },
      "source": [
        "# Return States and Sequences\n",
        "\n",
        "# We can access both the sequence of hidden state and the cell states at the same time.\n",
        "# This can be done by configuring the LSTM layer to both return sequences and return states.\n",
        "\n",
        "# define model\n",
        "inputs1 = Input(shape=(3, 1))\n",
        "\n",
        "lstm1, state_h, state_c = LSTM(1, return_sequences=True, return_state=True)(inputs1)\n",
        "\n",
        "model = Model(inputs=inputs1, outputs=[lstm1, state_h, state_c])\n",
        "\n",
        "# define input data\n",
        "data = array([0.1, 0.2, 0.3]).reshape((1,3,1))\n",
        "\n",
        "# make and show prediction\n",
        "print(model.predict(data))"
      ],
      "execution_count": 10,
      "outputs": [
        {
          "output_type": "stream",
          "text": [
            "[array([[[0.0187664 ],\n",
            "        [0.05030981],\n",
            "        [0.0897956 ]]], dtype=float32), array([[0.0897956]], dtype=float32), array([[0.21259052]], dtype=float32)]\n"
          ],
          "name": "stdout"
        }
      ]
    },
    {
      "cell_type": "code",
      "metadata": {
        "id": "-RrhjUdLQyqm"
      },
      "source": [
        "# The layer returns the hidden state for each input time step, then separately, the hidden state output for the last\n",
        "#  time step and the cell state for the last input time step.\n",
        "\n",
        "# This can be confirmed by seeing that the last value in the returned sequences (first array) matches the value \n",
        "# in the hidden state (second array)."
      ],
      "execution_count": null,
      "outputs": []
    }
  ]
}