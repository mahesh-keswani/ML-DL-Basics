{
 "cells": [
  {
   "cell_type": "code",
   "execution_count": 1,
   "metadata": {},
   "outputs": [],
   "source": [
    "from datetime import datetime\n",
    "import numpy as np\n",
    "import pandas as pd\n",
    "import matplotlib.pyplot as plt"
   ]
  },
  {
   "cell_type": "code",
   "execution_count": 2,
   "metadata": {},
   "outputs": [],
   "source": [
    "year = 2020\n",
    "month = 12\n",
    "date = 23\n",
    "hour = 7\n",
    "minute = 24"
   ]
  },
  {
   "cell_type": "code",
   "execution_count": 3,
   "metadata": {},
   "outputs": [],
   "source": [
    "# creating datetime object \n",
    "my_birthday = datetime(year, month, date)"
   ]
  },
  {
   "cell_type": "code",
   "execution_count": 4,
   "metadata": {},
   "outputs": [
    {
     "data": {
      "text/plain": [
       "datetime.datetime(2020, 12, 23, 0, 0)"
      ]
     },
     "execution_count": 4,
     "metadata": {},
     "output_type": "execute_result"
    }
   ],
   "source": [
    "my_birthday"
   ]
  },
  {
   "cell_type": "code",
   "execution_count": 5,
   "metadata": {},
   "outputs": [],
   "source": [
    "# Note above by default the hour and minute are set to zero, i.e the start of the day\n",
    "# now passing hour and minute as well\n",
    "my_birthday = datetime(year, month, date, hour, minute)"
   ]
  },
  {
   "cell_type": "code",
   "execution_count": 6,
   "metadata": {},
   "outputs": [
    {
     "data": {
      "text/plain": [
       "datetime.datetime(2020, 12, 23, 7, 24)"
      ]
     },
     "execution_count": 6,
     "metadata": {},
     "output_type": "execute_result"
    }
   ],
   "source": [
    "my_birthday"
   ]
  },
  {
   "cell_type": "code",
   "execution_count": 7,
   "metadata": {},
   "outputs": [
    {
     "data": {
      "text/plain": [
       "2020"
      ]
     },
     "execution_count": 7,
     "metadata": {},
     "output_type": "execute_result"
    }
   ],
   "source": [
    "# now it has various attributes like\n",
    "my_birthday.year"
   ]
  },
  {
   "cell_type": "code",
   "execution_count": 8,
   "metadata": {},
   "outputs": [
    {
     "data": {
      "text/plain": [
       "23"
      ]
     },
     "execution_count": 8,
     "metadata": {},
     "output_type": "execute_result"
    }
   ],
   "source": [
    "my_birthday.day"
   ]
  },
  {
   "cell_type": "code",
   "execution_count": 9,
   "metadata": {},
   "outputs": [
    {
     "data": {
      "text/plain": [
       "array(['2020-12-23', '2020-12-24', '2020-12-25'], dtype='datetime64[D]')"
      ]
     },
     "execution_count": 9,
     "metadata": {},
     "output_type": "execute_result"
    }
   ],
   "source": [
    "# Now handling dates with the numpy\n",
    "\n",
    "np.array( ['2020-12-23', '2020-12-24', '2020-12-25'], dtype = 'datetime64' )"
   ]
  },
  {
   "cell_type": "code",
   "execution_count": 10,
   "metadata": {},
   "outputs": [],
   "source": [
    "# Notice here type is datetime64[D], here D means precision is daywise, and this is by default\n",
    "# Also note: this is the standard way of representing date yyyy-mm-dd"
   ]
  },
  {
   "cell_type": "code",
   "execution_count": 11,
   "metadata": {},
   "outputs": [
    {
     "data": {
      "text/plain": [
       "array(['2020', '2020', '2020'], dtype='datetime64[Y]')"
      ]
     },
     "execution_count": 11,
     "metadata": {},
     "output_type": "execute_result"
    }
   ],
   "source": [
    "# by providing year wise precision, it will only take year\n",
    "np.array( ['2020-12-23', '2020-12-24', '2020-12-25'], dtype = 'datetime64[Y]' )"
   ]
  },
  {
   "cell_type": "markdown",
   "metadata": {},
   "source": [
    "- refer to official documentation for more information about codes\n",
    "- https://numpy.org/doc/stable/reference/arrays.datetime.html"
   ]
  },
  {
   "cell_type": "code",
   "execution_count": 15,
   "metadata": {},
   "outputs": [
    {
     "data": {
      "text/plain": [
       "array(['2018-06', '2018-07', '2018-08', '2018-09', '2018-10', '2018-11',\n",
       "       '2018-12', '2019-01', '2019-02', '2019-03', '2019-04', '2019-05'],\n",
       "      dtype='datetime64[M]')"
      ]
     },
     "execution_count": 15,
     "metadata": {},
     "output_type": "execute_result"
    }
   ],
   "source": [
    "# Now creating range of dates with numpy \n",
    "# M for monthly data\n",
    "\n",
    "# here 1 is the step, means take every month \n",
    "np.arange('2018-06-01', '2019-06-01', 1, dtype = 'datetime64[M]')"
   ]
  },
  {
   "cell_type": "code",
   "execution_count": 17,
   "metadata": {},
   "outputs": [
    {
     "data": {
      "text/plain": [
       "array(['2018-05-31', '2018-06-07', '2018-06-14', '2018-06-21',\n",
       "       '2018-06-28', '2018-07-05', '2018-07-12', '2018-07-19',\n",
       "       '2018-07-26', '2018-08-02', '2018-08-09', '2018-08-16',\n",
       "       '2018-08-23', '2018-08-30', '2018-09-06', '2018-09-13',\n",
       "       '2018-09-20', '2018-09-27', '2018-10-04', '2018-10-11',\n",
       "       '2018-10-18', '2018-10-25', '2018-11-01', '2018-11-08',\n",
       "       '2018-11-15', '2018-11-22', '2018-11-29', '2018-12-06',\n",
       "       '2018-12-13', '2018-12-20', '2018-12-27', '2019-01-03',\n",
       "       '2019-01-10', '2019-01-17', '2019-01-24', '2019-01-31',\n",
       "       '2019-02-07', '2019-02-14', '2019-02-21', '2019-02-28',\n",
       "       '2019-03-07', '2019-03-14', '2019-03-21', '2019-03-28',\n",
       "       '2019-04-04', '2019-04-11', '2019-04-18', '2019-04-25',\n",
       "       '2019-05-02', '2019-05-09', '2019-05-16', '2019-05-23'],\n",
       "      dtype='datetime64[W]')"
      ]
     },
     "execution_count": 17,
     "metadata": {},
     "output_type": "execute_result"
    }
   ],
   "source": [
    "# here 1 is the step, means take every week day\n",
    "np.arange('2018-06-01', '2019-06-01', 1, dtype = 'datetime64[W]')"
   ]
  },
  {
   "cell_type": "code",
   "execution_count": 18,
   "metadata": {},
   "outputs": [
    {
     "data": {
      "text/plain": [
       "array(['2018-06-01', '2018-06-08', '2018-06-15', '2018-06-22',\n",
       "       '2018-06-29'], dtype='datetime64[D]')"
      ]
     },
     "execution_count": 18,
     "metadata": {},
     "output_type": "execute_result"
    }
   ],
   "source": [
    "# here 7 is the step, means take every 7th day \n",
    "np.arange('2018-06-01', '2018-06-30', 7, dtype = 'datetime64[D]')"
   ]
  },
  {
   "cell_type": "code",
   "execution_count": 19,
   "metadata": {},
   "outputs": [
    {
     "data": {
      "text/plain": [
       "array(['2000', '2001', '2002', '2003', '2004', '2005', '2006', '2007',\n",
       "       '2008', '2009', '2010', '2011', '2012', '2013', '2014', '2015',\n",
       "       '2016', '2017', '2018'], dtype='datetime64[Y]')"
      ]
     },
     "execution_count": 19,
     "metadata": {},
     "output_type": "execute_result"
    }
   ],
   "source": [
    "# by default the step is 1, means take every month \n",
    "np.arange('2000-06-01', '2019-06-01', 1, dtype = 'datetime64[Y]')"
   ]
  },
  {
   "cell_type": "markdown",
   "metadata": {},
   "source": [
    "- Now handling dates with pandas"
   ]
  },
  {
   "cell_type": "code",
   "execution_count": 20,
   "metadata": {},
   "outputs": [
    {
     "data": {
      "text/plain": [
       "DatetimeIndex(['2020-01-01', '2020-01-02', '2020-01-03', '2020-01-04',\n",
       "               '2020-01-05', '2020-01-06', '2020-01-07'],\n",
       "              dtype='datetime64[ns]', freq='D')"
      ]
     },
     "execution_count": 20,
     "metadata": {},
     "output_type": "execute_result"
    }
   ],
   "source": [
    "# periods is how many we want from the given start, and here D means daily frequency\n",
    "pd.date_range('2020-01-01', periods = 7, freq = 'D')"
   ]
  },
  {
   "cell_type": "code",
   "execution_count": 21,
   "metadata": {},
   "outputs": [],
   "source": [
    "# Note few things: pandas has special DateTimeIndex object, it uses nanosecond level frequency"
   ]
  },
  {
   "cell_type": "code",
   "execution_count": 22,
   "metadata": {},
   "outputs": [
    {
     "data": {
      "text/plain": [
       "DatetimeIndex(['2020-01-01', '2020-01-02', '2020-01-03'], dtype='datetime64[ns]', freq=None)"
      ]
     },
     "execution_count": 22,
     "metadata": {},
     "output_type": "execute_result"
    }
   ],
   "source": [
    "# Now many a times we will not have format of dates like this, therefore inorder to provide our own format\n",
    "# use to_datetime() method\n",
    "\n",
    "pd.to_datetime(['01/01/2020', '02/01/2020', '03/01/2020'], format = '%d/%m/%Y')"
   ]
  },
  {
   "cell_type": "code",
   "execution_count": null,
   "metadata": {},
   "outputs": [],
   "source": []
  }
 ],
 "metadata": {
  "kernelspec": {
   "display_name": "Python 3",
   "language": "python",
   "name": "python3"
  },
  "language_info": {
   "codemirror_mode": {
    "name": "ipython",
    "version": 3
   },
   "file_extension": ".py",
   "mimetype": "text/x-python",
   "name": "python",
   "nbconvert_exporter": "python",
   "pygments_lexer": "ipython3",
   "version": "3.7.2"
  }
 },
 "nbformat": 4,
 "nbformat_minor": 2
}
